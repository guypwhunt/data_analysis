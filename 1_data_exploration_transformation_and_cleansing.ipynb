{
 "cells": [
  {
   "cell_type": "markdown",
   "metadata": {},
   "source": [
    "# Data Exploration, Transformation and Cleansing of Stroke Dataset"
   ]
  },
  {
   "cell_type": "markdown",
   "metadata": {},
   "source": [
    "## 1. Firstly the necessary libraries are loaded including numpy, pandas, scipy and matplotlib"
   ]
  },
  {
   "cell_type": "code",
   "execution_count": 2,
   "metadata": {
    "tags": []
   },
   "outputs": [
    {
     "name": "stdout",
     "output_type": "stream",
     "text": [
      "The libraries were loaded successfully\n"
     ]
    }
   ],
   "source": [
    "# Import Libraries\n",
    "try:\n",
    "    import numpy as np\n",
    "    import pandas as pd\n",
    "    import scipy.stats as stats\n",
    "    import matplotlib.pyplot as plt\n",
    "    %matplotlib inline\n",
    "    print('The libraries were loaded successfully')\n",
    "    \n",
    "except:\n",
    "    print('There was an error loading the libraries')"
   ]
  },
  {
   "cell_type": "markdown",
   "metadata": {},
   "source": [
    "## 2. The dataset is loaded from a csv and the top rows are loaded"
   ]
  },
  {
   "cell_type": "code",
   "execution_count": 3,
   "metadata": {},
   "outputs": [
    {
     "data": {
      "text/html": [
       "<div>\n",
       "<style scoped>\n",
       "    .dataframe tbody tr th:only-of-type {\n",
       "        vertical-align: middle;\n",
       "    }\n",
       "\n",
       "    .dataframe tbody tr th {\n",
       "        vertical-align: top;\n",
       "    }\n",
       "\n",
       "    .dataframe thead th {\n",
       "        text-align: right;\n",
       "    }\n",
       "</style>\n",
       "<table border=\"1\" class=\"dataframe\">\n",
       "  <thead>\n",
       "    <tr style=\"text-align: right;\">\n",
       "      <th></th>\n",
       "      <th>id</th>\n",
       "      <th>gender</th>\n",
       "      <th>age</th>\n",
       "      <th>hypertension</th>\n",
       "      <th>heart_disease</th>\n",
       "      <th>ever_married</th>\n",
       "      <th>work_type</th>\n",
       "      <th>Residence_type</th>\n",
       "      <th>avg_glucose_level</th>\n",
       "      <th>bmi</th>\n",
       "      <th>smoking_status</th>\n",
       "      <th>stroke</th>\n",
       "    </tr>\n",
       "  </thead>\n",
       "  <tbody>\n",
       "    <tr>\n",
       "      <th>1</th>\n",
       "      <td>51676</td>\n",
       "      <td>Female</td>\n",
       "      <td>61.0</td>\n",
       "      <td>0</td>\n",
       "      <td>0</td>\n",
       "      <td>Yes</td>\n",
       "      <td>Self-employed</td>\n",
       "      <td>Rural</td>\n",
       "      <td>202.21</td>\n",
       "      <td>NaN</td>\n",
       "      <td>never smoked</td>\n",
       "      <td>1</td>\n",
       "    </tr>\n",
       "    <tr>\n",
       "      <th>8</th>\n",
       "      <td>27419</td>\n",
       "      <td>Female</td>\n",
       "      <td>59.0</td>\n",
       "      <td>0</td>\n",
       "      <td>0</td>\n",
       "      <td>Yes</td>\n",
       "      <td>Private</td>\n",
       "      <td>Rural</td>\n",
       "      <td>76.15</td>\n",
       "      <td>NaN</td>\n",
       "      <td>Unknown</td>\n",
       "      <td>1</td>\n",
       "    </tr>\n",
       "    <tr>\n",
       "      <th>13</th>\n",
       "      <td>8213</td>\n",
       "      <td>Male</td>\n",
       "      <td>78.0</td>\n",
       "      <td>0</td>\n",
       "      <td>1</td>\n",
       "      <td>Yes</td>\n",
       "      <td>Private</td>\n",
       "      <td>Urban</td>\n",
       "      <td>219.84</td>\n",
       "      <td>NaN</td>\n",
       "      <td>Unknown</td>\n",
       "      <td>1</td>\n",
       "    </tr>\n",
       "    <tr>\n",
       "      <th>19</th>\n",
       "      <td>25226</td>\n",
       "      <td>Male</td>\n",
       "      <td>57.0</td>\n",
       "      <td>0</td>\n",
       "      <td>1</td>\n",
       "      <td>No</td>\n",
       "      <td>Govt_job</td>\n",
       "      <td>Urban</td>\n",
       "      <td>217.08</td>\n",
       "      <td>NaN</td>\n",
       "      <td>Unknown</td>\n",
       "      <td>1</td>\n",
       "    </tr>\n",
       "    <tr>\n",
       "      <th>27</th>\n",
       "      <td>61843</td>\n",
       "      <td>Male</td>\n",
       "      <td>58.0</td>\n",
       "      <td>0</td>\n",
       "      <td>0</td>\n",
       "      <td>Yes</td>\n",
       "      <td>Private</td>\n",
       "      <td>Rural</td>\n",
       "      <td>189.84</td>\n",
       "      <td>NaN</td>\n",
       "      <td>Unknown</td>\n",
       "      <td>1</td>\n",
       "    </tr>\n",
       "    <tr>\n",
       "      <th>...</th>\n",
       "      <td>...</td>\n",
       "      <td>...</td>\n",
       "      <td>...</td>\n",
       "      <td>...</td>\n",
       "      <td>...</td>\n",
       "      <td>...</td>\n",
       "      <td>...</td>\n",
       "      <td>...</td>\n",
       "      <td>...</td>\n",
       "      <td>...</td>\n",
       "      <td>...</td>\n",
       "      <td>...</td>\n",
       "    </tr>\n",
       "    <tr>\n",
       "      <th>5039</th>\n",
       "      <td>42007</td>\n",
       "      <td>Male</td>\n",
       "      <td>41.0</td>\n",
       "      <td>0</td>\n",
       "      <td>0</td>\n",
       "      <td>No</td>\n",
       "      <td>Private</td>\n",
       "      <td>Rural</td>\n",
       "      <td>70.15</td>\n",
       "      <td>NaN</td>\n",
       "      <td>formerly smoked</td>\n",
       "      <td>0</td>\n",
       "    </tr>\n",
       "    <tr>\n",
       "      <th>5048</th>\n",
       "      <td>28788</td>\n",
       "      <td>Male</td>\n",
       "      <td>40.0</td>\n",
       "      <td>0</td>\n",
       "      <td>0</td>\n",
       "      <td>Yes</td>\n",
       "      <td>Private</td>\n",
       "      <td>Urban</td>\n",
       "      <td>191.15</td>\n",
       "      <td>NaN</td>\n",
       "      <td>smokes</td>\n",
       "      <td>0</td>\n",
       "    </tr>\n",
       "    <tr>\n",
       "      <th>5093</th>\n",
       "      <td>32235</td>\n",
       "      <td>Female</td>\n",
       "      <td>45.0</td>\n",
       "      <td>1</td>\n",
       "      <td>0</td>\n",
       "      <td>Yes</td>\n",
       "      <td>Govt_job</td>\n",
       "      <td>Rural</td>\n",
       "      <td>95.02</td>\n",
       "      <td>NaN</td>\n",
       "      <td>smokes</td>\n",
       "      <td>0</td>\n",
       "    </tr>\n",
       "    <tr>\n",
       "      <th>5099</th>\n",
       "      <td>7293</td>\n",
       "      <td>Male</td>\n",
       "      <td>40.0</td>\n",
       "      <td>0</td>\n",
       "      <td>0</td>\n",
       "      <td>Yes</td>\n",
       "      <td>Private</td>\n",
       "      <td>Rural</td>\n",
       "      <td>83.94</td>\n",
       "      <td>NaN</td>\n",
       "      <td>smokes</td>\n",
       "      <td>0</td>\n",
       "    </tr>\n",
       "    <tr>\n",
       "      <th>5105</th>\n",
       "      <td>18234</td>\n",
       "      <td>Female</td>\n",
       "      <td>80.0</td>\n",
       "      <td>1</td>\n",
       "      <td>0</td>\n",
       "      <td>Yes</td>\n",
       "      <td>Private</td>\n",
       "      <td>Urban</td>\n",
       "      <td>83.75</td>\n",
       "      <td>NaN</td>\n",
       "      <td>never smoked</td>\n",
       "      <td>0</td>\n",
       "    </tr>\n",
       "  </tbody>\n",
       "</table>\n",
       "<p>201 rows × 12 columns</p>\n",
       "</div>"
      ],
      "text/plain": [
       "         id  gender   age  hypertension  heart_disease ever_married  \\\n",
       "1     51676  Female  61.0             0              0          Yes   \n",
       "8     27419  Female  59.0             0              0          Yes   \n",
       "13     8213    Male  78.0             0              1          Yes   \n",
       "19    25226    Male  57.0             0              1           No   \n",
       "27    61843    Male  58.0             0              0          Yes   \n",
       "...     ...     ...   ...           ...            ...          ...   \n",
       "5039  42007    Male  41.0             0              0           No   \n",
       "5048  28788    Male  40.0             0              0          Yes   \n",
       "5093  32235  Female  45.0             1              0          Yes   \n",
       "5099   7293    Male  40.0             0              0          Yes   \n",
       "5105  18234  Female  80.0             1              0          Yes   \n",
       "\n",
       "          work_type Residence_type  avg_glucose_level  bmi   smoking_status  \\\n",
       "1     Self-employed          Rural             202.21  NaN     never smoked   \n",
       "8           Private          Rural              76.15  NaN          Unknown   \n",
       "13          Private          Urban             219.84  NaN          Unknown   \n",
       "19         Govt_job          Urban             217.08  NaN          Unknown   \n",
       "27          Private          Rural             189.84  NaN          Unknown   \n",
       "...             ...            ...                ...  ...              ...   \n",
       "5039        Private          Rural              70.15  NaN  formerly smoked   \n",
       "5048        Private          Urban             191.15  NaN           smokes   \n",
       "5093       Govt_job          Rural              95.02  NaN           smokes   \n",
       "5099        Private          Rural              83.94  NaN           smokes   \n",
       "5105        Private          Urban              83.75  NaN     never smoked   \n",
       "\n",
       "      stroke  \n",
       "1          1  \n",
       "8          1  \n",
       "13         1  \n",
       "19         1  \n",
       "27         1  \n",
       "...      ...  \n",
       "5039       0  \n",
       "5048       0  \n",
       "5093       0  \n",
       "5099       0  \n",
       "5105       0  \n",
       "\n",
       "[201 rows x 12 columns]"
      ]
     },
     "execution_count": 3,
     "metadata": {},
     "output_type": "execute_result"
    }
   ],
   "source": [
    "# Load Dataset\n",
    "df_stroke = pd.read_csv('data/healthcare-dataset-stroke-data.csv',delimiter=',',header='infer')\n",
    "df_stroke.head()\n",
    "df_stroke.isnull().sum()\n",
    "df_stroke[df_stroke.isnull().any(axis=1)]"
   ]
  },
  {
   "cell_type": "markdown",
   "metadata": {},
   "source": [
    "## 3. The shape of the dataset is identified"
   ]
  },
  {
   "cell_type": "code",
   "execution_count": 4,
   "metadata": {
    "tags": []
   },
   "outputs": [
    {
     "name": "stdout",
     "output_type": "stream",
     "text": [
      "The data set has 5110 rows\n",
      "The data set has 12 columns\n"
     ]
    }
   ],
   "source": [
    "shape = df_stroke.shape\n",
    "\n",
    "print(f'The data set has {shape[0]} rows')\n",
    "print(f'The data set has {shape[1]} columns')"
   ]
  },
  {
   "cell_type": "markdown",
   "metadata": {},
   "source": [
    "## 4. Identify the type of data in each column"
   ]
  },
  {
   "cell_type": "code",
   "execution_count": 5,
   "metadata": {},
   "outputs": [
    {
     "name": "stdout",
     "output_type": "stream",
     "text": [
      "<class 'pandas.core.frame.DataFrame'>\n",
      "RangeIndex: 5110 entries, 0 to 5109\n",
      "Data columns (total 12 columns):\n",
      " #   Column             Non-Null Count  Dtype  \n",
      "---  ------             --------------  -----  \n",
      " 0   id                 5110 non-null   int64  \n",
      " 1   gender             5110 non-null   object \n",
      " 2   age                5110 non-null   float64\n",
      " 3   hypertension       5110 non-null   int64  \n",
      " 4   heart_disease      5110 non-null   int64  \n",
      " 5   ever_married       5110 non-null   object \n",
      " 6   work_type          5110 non-null   object \n",
      " 7   Residence_type     5110 non-null   object \n",
      " 8   avg_glucose_level  5110 non-null   float64\n",
      " 9   bmi                4909 non-null   float64\n",
      " 10  smoking_status     5110 non-null   object \n",
      " 11  stroke             5110 non-null   int64  \n",
      "dtypes: float64(3), int64(4), object(5)\n",
      "memory usage: 479.2+ KB\n"
     ]
    }
   ],
   "source": [
    "df_stroke.info()"
   ]
  },
  {
   "cell_type": "markdown",
   "metadata": {},
   "source": [
    "## 5. Identify if there is duplicated data"
   ]
  },
  {
   "cell_type": "code",
   "execution_count": 6,
   "metadata": {},
   "outputs": [
    {
     "name": "stdout",
     "output_type": "stream",
     "text": [
      "There are 0 duplicated rows\n"
     ]
    }
   ],
   "source": [
    "duplicated_rows = df_stroke.duplicated().sum()\n",
    "print(f'There are {duplicated_rows} duplicated rows')\n"
   ]
  },
  {
   "cell_type": "markdown",
   "metadata": {},
   "source": [
    "## 6. Describe numerical columns"
   ]
  },
  {
   "cell_type": "code",
   "execution_count": 7,
   "metadata": {},
   "outputs": [
    {
     "data": {
      "text/html": [
       "<div>\n",
       "<style scoped>\n",
       "    .dataframe tbody tr th:only-of-type {\n",
       "        vertical-align: middle;\n",
       "    }\n",
       "\n",
       "    .dataframe tbody tr th {\n",
       "        vertical-align: top;\n",
       "    }\n",
       "\n",
       "    .dataframe thead th {\n",
       "        text-align: right;\n",
       "    }\n",
       "</style>\n",
       "<table border=\"1\" class=\"dataframe\">\n",
       "  <thead>\n",
       "    <tr style=\"text-align: right;\">\n",
       "      <th></th>\n",
       "      <th>id</th>\n",
       "      <th>age</th>\n",
       "      <th>hypertension</th>\n",
       "      <th>heart_disease</th>\n",
       "      <th>avg_glucose_level</th>\n",
       "      <th>bmi</th>\n",
       "      <th>stroke</th>\n",
       "    </tr>\n",
       "  </thead>\n",
       "  <tbody>\n",
       "    <tr>\n",
       "      <th>count</th>\n",
       "      <td>5110.000000</td>\n",
       "      <td>5110.000000</td>\n",
       "      <td>5110.000000</td>\n",
       "      <td>5110.000000</td>\n",
       "      <td>5110.000000</td>\n",
       "      <td>4909.000000</td>\n",
       "      <td>5110.000000</td>\n",
       "    </tr>\n",
       "    <tr>\n",
       "      <th>mean</th>\n",
       "      <td>36517.829354</td>\n",
       "      <td>43.226614</td>\n",
       "      <td>0.097456</td>\n",
       "      <td>0.054012</td>\n",
       "      <td>106.147677</td>\n",
       "      <td>28.893237</td>\n",
       "      <td>0.048728</td>\n",
       "    </tr>\n",
       "    <tr>\n",
       "      <th>std</th>\n",
       "      <td>21161.721625</td>\n",
       "      <td>22.612647</td>\n",
       "      <td>0.296607</td>\n",
       "      <td>0.226063</td>\n",
       "      <td>45.283560</td>\n",
       "      <td>7.854067</td>\n",
       "      <td>0.215320</td>\n",
       "    </tr>\n",
       "    <tr>\n",
       "      <th>min</th>\n",
       "      <td>67.000000</td>\n",
       "      <td>0.080000</td>\n",
       "      <td>0.000000</td>\n",
       "      <td>0.000000</td>\n",
       "      <td>55.120000</td>\n",
       "      <td>10.300000</td>\n",
       "      <td>0.000000</td>\n",
       "    </tr>\n",
       "    <tr>\n",
       "      <th>25%</th>\n",
       "      <td>17741.250000</td>\n",
       "      <td>25.000000</td>\n",
       "      <td>0.000000</td>\n",
       "      <td>0.000000</td>\n",
       "      <td>77.245000</td>\n",
       "      <td>23.500000</td>\n",
       "      <td>0.000000</td>\n",
       "    </tr>\n",
       "    <tr>\n",
       "      <th>50%</th>\n",
       "      <td>36932.000000</td>\n",
       "      <td>45.000000</td>\n",
       "      <td>0.000000</td>\n",
       "      <td>0.000000</td>\n",
       "      <td>91.885000</td>\n",
       "      <td>28.100000</td>\n",
       "      <td>0.000000</td>\n",
       "    </tr>\n",
       "    <tr>\n",
       "      <th>75%</th>\n",
       "      <td>54682.000000</td>\n",
       "      <td>61.000000</td>\n",
       "      <td>0.000000</td>\n",
       "      <td>0.000000</td>\n",
       "      <td>114.090000</td>\n",
       "      <td>33.100000</td>\n",
       "      <td>0.000000</td>\n",
       "    </tr>\n",
       "    <tr>\n",
       "      <th>max</th>\n",
       "      <td>72940.000000</td>\n",
       "      <td>82.000000</td>\n",
       "      <td>1.000000</td>\n",
       "      <td>1.000000</td>\n",
       "      <td>271.740000</td>\n",
       "      <td>97.600000</td>\n",
       "      <td>1.000000</td>\n",
       "    </tr>\n",
       "  </tbody>\n",
       "</table>\n",
       "</div>"
      ],
      "text/plain": [
       "                 id          age  hypertension  heart_disease  \\\n",
       "count   5110.000000  5110.000000   5110.000000    5110.000000   \n",
       "mean   36517.829354    43.226614      0.097456       0.054012   \n",
       "std    21161.721625    22.612647      0.296607       0.226063   \n",
       "min       67.000000     0.080000      0.000000       0.000000   \n",
       "25%    17741.250000    25.000000      0.000000       0.000000   \n",
       "50%    36932.000000    45.000000      0.000000       0.000000   \n",
       "75%    54682.000000    61.000000      0.000000       0.000000   \n",
       "max    72940.000000    82.000000      1.000000       1.000000   \n",
       "\n",
       "       avg_glucose_level          bmi       stroke  \n",
       "count        5110.000000  4909.000000  5110.000000  \n",
       "mean          106.147677    28.893237     0.048728  \n",
       "std            45.283560     7.854067     0.215320  \n",
       "min            55.120000    10.300000     0.000000  \n",
       "25%            77.245000    23.500000     0.000000  \n",
       "50%            91.885000    28.100000     0.000000  \n",
       "75%           114.090000    33.100000     0.000000  \n",
       "max           271.740000    97.600000     1.000000  "
      ]
     },
     "execution_count": 7,
     "metadata": {},
     "output_type": "execute_result"
    }
   ],
   "source": [
    "df_stroke.describe()"
   ]
  },
  {
   "cell_type": "markdown",
   "metadata": {},
   "source": [
    "## 7. Describe categorical columns"
   ]
  },
  {
   "cell_type": "code",
   "execution_count": 8,
   "metadata": {},
   "outputs": [
    {
     "data": {
      "text/html": [
       "<div>\n",
       "<style scoped>\n",
       "    .dataframe tbody tr th:only-of-type {\n",
       "        vertical-align: middle;\n",
       "    }\n",
       "\n",
       "    .dataframe tbody tr th {\n",
       "        vertical-align: top;\n",
       "    }\n",
       "\n",
       "    .dataframe thead th {\n",
       "        text-align: right;\n",
       "    }\n",
       "</style>\n",
       "<table border=\"1\" class=\"dataframe\">\n",
       "  <thead>\n",
       "    <tr style=\"text-align: right;\">\n",
       "      <th></th>\n",
       "      <th>gender</th>\n",
       "      <th>ever_married</th>\n",
       "      <th>work_type</th>\n",
       "      <th>Residence_type</th>\n",
       "      <th>smoking_status</th>\n",
       "    </tr>\n",
       "  </thead>\n",
       "  <tbody>\n",
       "    <tr>\n",
       "      <th>count</th>\n",
       "      <td>5110</td>\n",
       "      <td>5110</td>\n",
       "      <td>5110</td>\n",
       "      <td>5110</td>\n",
       "      <td>5110</td>\n",
       "    </tr>\n",
       "    <tr>\n",
       "      <th>unique</th>\n",
       "      <td>3</td>\n",
       "      <td>2</td>\n",
       "      <td>5</td>\n",
       "      <td>2</td>\n",
       "      <td>4</td>\n",
       "    </tr>\n",
       "    <tr>\n",
       "      <th>top</th>\n",
       "      <td>Female</td>\n",
       "      <td>Yes</td>\n",
       "      <td>Private</td>\n",
       "      <td>Urban</td>\n",
       "      <td>never smoked</td>\n",
       "    </tr>\n",
       "    <tr>\n",
       "      <th>freq</th>\n",
       "      <td>2994</td>\n",
       "      <td>3353</td>\n",
       "      <td>2925</td>\n",
       "      <td>2596</td>\n",
       "      <td>1892</td>\n",
       "    </tr>\n",
       "  </tbody>\n",
       "</table>\n",
       "</div>"
      ],
      "text/plain": [
       "        gender ever_married work_type Residence_type smoking_status\n",
       "count     5110         5110      5110           5110           5110\n",
       "unique       3            2         5              2              4\n",
       "top     Female          Yes   Private          Urban   never smoked\n",
       "freq      2994         3353      2925           2596           1892"
      ]
     },
     "execution_count": 8,
     "metadata": {},
     "output_type": "execute_result"
    }
   ],
   "source": [
    "categorical_variables = ['gender', 'ever_married', 'work_type', 'Residence_type', 'smoking_status']\n",
    "df_stroke[categorical_variables].describe()    "
   ]
  },
  {
   "cell_type": "markdown",
   "metadata": {},
   "source": [
    "## 8. Identify all the unique values in the categorical columns"
   ]
  },
  {
   "cell_type": "code",
   "execution_count": 9,
   "metadata": {},
   "outputs": [
    {
     "name": "stdout",
     "output_type": "stream",
     "text": [
      "The unique values for the column gender are:\n",
      "['Male' 'Female' 'Other']\n",
      "\n",
      "\n",
      "The unique values for the column ever_married are:\n",
      "['Yes' 'No']\n",
      "\n",
      "\n",
      "The unique values for the column work_type are:\n",
      "['Private' 'Self-employed' 'Govt_job' 'children' 'Never_worked']\n",
      "\n",
      "\n",
      "The unique values for the column Residence_type are:\n",
      "['Urban' 'Rural']\n",
      "\n",
      "\n",
      "The unique values for the column smoking_status are:\n",
      "['formerly smoked' 'never smoked' 'smokes' 'Unknown']\n",
      "\n",
      "\n"
     ]
    }
   ],
   "source": [
    "for col in categorical_variables:\n",
    "    print(f'The unique values for the column {col} are:')\n",
    "    print(df_stroke[col].unique())\n",
    "    print('\\n')"
   ]
  },
  {
   "cell_type": "markdown",
   "metadata": {},
   "source": [
    "## 9. Convert categorical columns to numerical"
   ]
  },
  {
   "cell_type": "code",
   "execution_count": 10,
   "metadata": {},
   "outputs": [
    {
     "name": "stdout",
     "output_type": "stream",
     "text": [
      "The values in the column gender have been updated from male to 1 and female to 0\n",
      "\n",
      "The values in the column ever_married have been updated from yes to 1 and no to 0\n",
      "\n",
      "The values in the column work_type have been updated from Private to 2, from Self-employed to 3, from Govt_job to 0, from children to 4 and from Never_worked to 1\n",
      "\n",
      "The values in the column Residence_type have been updated from Urban to 1 and from Rural to 0\n",
      "\n",
      "The values in the column smoking_status have been updated from formerly smoked to 1, from never smoked to 2, from smokes to 3, from Unknown to 0\n",
      "\n"
     ]
    }
   ],
   "source": [
    "# Convert gender from a categorical column to numerical column\n",
    "df_stroke.gender = pd.Categorical(df_stroke.gender)\n",
    "df_stroke['gender'] = df_stroke.gender.cat.codes\n",
    "print('The values in the column gender have been updated from male to 1 and female to 0\\n')\n",
    "\n",
    "# Convert ever_married from a categorical column to numerical column\n",
    "df_stroke.ever_married = pd.Categorical(df_stroke.ever_married)\n",
    "df_stroke['ever_married'] = df_stroke.ever_married.cat.codes\n",
    "print('The values in the column ever_married have been updated from yes to 1 and no to 0\\n')\n",
    "\n",
    "# Convert ever_married from a categorical column to numerical column\n",
    "df_stroke.work_type = pd.Categorical(df_stroke.work_type)\n",
    "df_stroke['work_type'] = df_stroke.work_type.cat.codes\n",
    "print('The values in the column work_type have been updated from Private to 2, from Self-employed to 3, from Govt_job to 0, from children to 4 and from Never_worked to 1\\n')\n",
    "\n",
    "# Convert Residence_type from a categorical column to numerical column\n",
    "df_stroke.Residence_type = pd.Categorical(df_stroke.Residence_type)\n",
    "df_stroke['Residence_type'] = df_stroke.Residence_type.cat.codes\n",
    "print('The values in the column Residence_type have been updated from Urban to 1 and from Rural to 0\\n')\n",
    "\n",
    "# Convert smoking_status from a categorical column to numerical column\n",
    "df_stroke.smoking_status = pd.Categorical(df_stroke.smoking_status)\n",
    "df_stroke['smoking_status'] = df_stroke.smoking_status.cat.codes\n",
    "print('The values in the column smoking_status have been updated from formerly smoked to 1, from never smoked to 2, from smokes to 3, from Unknown to 0\\n')"
   ]
  },
  {
   "cell_type": "markdown",
   "metadata": {},
   "source": [
    "## 10. Now we can review the transformed dataset"
   ]
  },
  {
   "cell_type": "code",
   "execution_count": 11,
   "metadata": {},
   "outputs": [
    {
     "data": {
      "text/html": [
       "<div>\n",
       "<style scoped>\n",
       "    .dataframe tbody tr th:only-of-type {\n",
       "        vertical-align: middle;\n",
       "    }\n",
       "\n",
       "    .dataframe tbody tr th {\n",
       "        vertical-align: top;\n",
       "    }\n",
       "\n",
       "    .dataframe thead th {\n",
       "        text-align: right;\n",
       "    }\n",
       "</style>\n",
       "<table border=\"1\" class=\"dataframe\">\n",
       "  <thead>\n",
       "    <tr style=\"text-align: right;\">\n",
       "      <th></th>\n",
       "      <th>id</th>\n",
       "      <th>gender</th>\n",
       "      <th>age</th>\n",
       "      <th>hypertension</th>\n",
       "      <th>heart_disease</th>\n",
       "      <th>ever_married</th>\n",
       "      <th>work_type</th>\n",
       "      <th>Residence_type</th>\n",
       "      <th>avg_glucose_level</th>\n",
       "      <th>bmi</th>\n",
       "      <th>smoking_status</th>\n",
       "      <th>stroke</th>\n",
       "    </tr>\n",
       "  </thead>\n",
       "  <tbody>\n",
       "    <tr>\n",
       "      <th>0</th>\n",
       "      <td>9046</td>\n",
       "      <td>1</td>\n",
       "      <td>67.0</td>\n",
       "      <td>0</td>\n",
       "      <td>1</td>\n",
       "      <td>1</td>\n",
       "      <td>2</td>\n",
       "      <td>1</td>\n",
       "      <td>228.69</td>\n",
       "      <td>36.6</td>\n",
       "      <td>1</td>\n",
       "      <td>1</td>\n",
       "    </tr>\n",
       "    <tr>\n",
       "      <th>1</th>\n",
       "      <td>51676</td>\n",
       "      <td>0</td>\n",
       "      <td>61.0</td>\n",
       "      <td>0</td>\n",
       "      <td>0</td>\n",
       "      <td>1</td>\n",
       "      <td>3</td>\n",
       "      <td>0</td>\n",
       "      <td>202.21</td>\n",
       "      <td>NaN</td>\n",
       "      <td>2</td>\n",
       "      <td>1</td>\n",
       "    </tr>\n",
       "    <tr>\n",
       "      <th>2</th>\n",
       "      <td>31112</td>\n",
       "      <td>1</td>\n",
       "      <td>80.0</td>\n",
       "      <td>0</td>\n",
       "      <td>1</td>\n",
       "      <td>1</td>\n",
       "      <td>2</td>\n",
       "      <td>0</td>\n",
       "      <td>105.92</td>\n",
       "      <td>32.5</td>\n",
       "      <td>2</td>\n",
       "      <td>1</td>\n",
       "    </tr>\n",
       "    <tr>\n",
       "      <th>3</th>\n",
       "      <td>60182</td>\n",
       "      <td>0</td>\n",
       "      <td>49.0</td>\n",
       "      <td>0</td>\n",
       "      <td>0</td>\n",
       "      <td>1</td>\n",
       "      <td>2</td>\n",
       "      <td>1</td>\n",
       "      <td>171.23</td>\n",
       "      <td>34.4</td>\n",
       "      <td>3</td>\n",
       "      <td>1</td>\n",
       "    </tr>\n",
       "    <tr>\n",
       "      <th>4</th>\n",
       "      <td>1665</td>\n",
       "      <td>0</td>\n",
       "      <td>79.0</td>\n",
       "      <td>1</td>\n",
       "      <td>0</td>\n",
       "      <td>1</td>\n",
       "      <td>3</td>\n",
       "      <td>0</td>\n",
       "      <td>174.12</td>\n",
       "      <td>24.0</td>\n",
       "      <td>2</td>\n",
       "      <td>1</td>\n",
       "    </tr>\n",
       "  </tbody>\n",
       "</table>\n",
       "</div>"
      ],
      "text/plain": [
       "      id  gender   age  hypertension  heart_disease  ever_married  work_type  \\\n",
       "0   9046       1  67.0             0              1             1          2   \n",
       "1  51676       0  61.0             0              0             1          3   \n",
       "2  31112       1  80.0             0              1             1          2   \n",
       "3  60182       0  49.0             0              0             1          2   \n",
       "4   1665       0  79.0             1              0             1          3   \n",
       "\n",
       "   Residence_type  avg_glucose_level   bmi  smoking_status  stroke  \n",
       "0               1             228.69  36.6               1       1  \n",
       "1               0             202.21   NaN               2       1  \n",
       "2               0             105.92  32.5               2       1  \n",
       "3               1             171.23  34.4               3       1  \n",
       "4               0             174.12  24.0               2       1  "
      ]
     },
     "execution_count": 11,
     "metadata": {},
     "output_type": "execute_result"
    }
   ],
   "source": [
    "df_stroke.head()"
   ]
  },
  {
   "cell_type": "code",
   "execution_count": 12,
   "metadata": {},
   "outputs": [
    {
     "data": {
      "text/html": [
       "<div>\n",
       "<style scoped>\n",
       "    .dataframe tbody tr th:only-of-type {\n",
       "        vertical-align: middle;\n",
       "    }\n",
       "\n",
       "    .dataframe tbody tr th {\n",
       "        vertical-align: top;\n",
       "    }\n",
       "\n",
       "    .dataframe thead th {\n",
       "        text-align: right;\n",
       "    }\n",
       "</style>\n",
       "<table border=\"1\" class=\"dataframe\">\n",
       "  <thead>\n",
       "    <tr style=\"text-align: right;\">\n",
       "      <th></th>\n",
       "      <th>id</th>\n",
       "      <th>gender</th>\n",
       "      <th>age</th>\n",
       "      <th>hypertension</th>\n",
       "      <th>heart_disease</th>\n",
       "      <th>ever_married</th>\n",
       "      <th>work_type</th>\n",
       "      <th>Residence_type</th>\n",
       "      <th>avg_glucose_level</th>\n",
       "      <th>bmi</th>\n",
       "      <th>smoking_status</th>\n",
       "      <th>stroke</th>\n",
       "    </tr>\n",
       "  </thead>\n",
       "  <tbody>\n",
       "    <tr>\n",
       "      <th>count</th>\n",
       "      <td>5110.000000</td>\n",
       "      <td>5110.000000</td>\n",
       "      <td>5110.000000</td>\n",
       "      <td>5110.000000</td>\n",
       "      <td>5110.000000</td>\n",
       "      <td>5110.000000</td>\n",
       "      <td>5110.000000</td>\n",
       "      <td>5110.000000</td>\n",
       "      <td>5110.000000</td>\n",
       "      <td>4909.000000</td>\n",
       "      <td>5110.000000</td>\n",
       "      <td>5110.000000</td>\n",
       "    </tr>\n",
       "    <tr>\n",
       "      <th>mean</th>\n",
       "      <td>36517.829354</td>\n",
       "      <td>0.414286</td>\n",
       "      <td>43.226614</td>\n",
       "      <td>0.097456</td>\n",
       "      <td>0.054012</td>\n",
       "      <td>0.656164</td>\n",
       "      <td>2.167710</td>\n",
       "      <td>0.508023</td>\n",
       "      <td>106.147677</td>\n",
       "      <td>28.893237</td>\n",
       "      <td>1.376908</td>\n",
       "      <td>0.048728</td>\n",
       "    </tr>\n",
       "    <tr>\n",
       "      <th>std</th>\n",
       "      <td>21161.721625</td>\n",
       "      <td>0.493044</td>\n",
       "      <td>22.612647</td>\n",
       "      <td>0.296607</td>\n",
       "      <td>0.226063</td>\n",
       "      <td>0.475034</td>\n",
       "      <td>1.090293</td>\n",
       "      <td>0.499985</td>\n",
       "      <td>45.283560</td>\n",
       "      <td>7.854067</td>\n",
       "      <td>1.071534</td>\n",
       "      <td>0.215320</td>\n",
       "    </tr>\n",
       "    <tr>\n",
       "      <th>min</th>\n",
       "      <td>67.000000</td>\n",
       "      <td>0.000000</td>\n",
       "      <td>0.080000</td>\n",
       "      <td>0.000000</td>\n",
       "      <td>0.000000</td>\n",
       "      <td>0.000000</td>\n",
       "      <td>0.000000</td>\n",
       "      <td>0.000000</td>\n",
       "      <td>55.120000</td>\n",
       "      <td>10.300000</td>\n",
       "      <td>0.000000</td>\n",
       "      <td>0.000000</td>\n",
       "    </tr>\n",
       "    <tr>\n",
       "      <th>25%</th>\n",
       "      <td>17741.250000</td>\n",
       "      <td>0.000000</td>\n",
       "      <td>25.000000</td>\n",
       "      <td>0.000000</td>\n",
       "      <td>0.000000</td>\n",
       "      <td>0.000000</td>\n",
       "      <td>2.000000</td>\n",
       "      <td>0.000000</td>\n",
       "      <td>77.245000</td>\n",
       "      <td>23.500000</td>\n",
       "      <td>0.000000</td>\n",
       "      <td>0.000000</td>\n",
       "    </tr>\n",
       "    <tr>\n",
       "      <th>50%</th>\n",
       "      <td>36932.000000</td>\n",
       "      <td>0.000000</td>\n",
       "      <td>45.000000</td>\n",
       "      <td>0.000000</td>\n",
       "      <td>0.000000</td>\n",
       "      <td>1.000000</td>\n",
       "      <td>2.000000</td>\n",
       "      <td>1.000000</td>\n",
       "      <td>91.885000</td>\n",
       "      <td>28.100000</td>\n",
       "      <td>2.000000</td>\n",
       "      <td>0.000000</td>\n",
       "    </tr>\n",
       "    <tr>\n",
       "      <th>75%</th>\n",
       "      <td>54682.000000</td>\n",
       "      <td>1.000000</td>\n",
       "      <td>61.000000</td>\n",
       "      <td>0.000000</td>\n",
       "      <td>0.000000</td>\n",
       "      <td>1.000000</td>\n",
       "      <td>3.000000</td>\n",
       "      <td>1.000000</td>\n",
       "      <td>114.090000</td>\n",
       "      <td>33.100000</td>\n",
       "      <td>2.000000</td>\n",
       "      <td>0.000000</td>\n",
       "    </tr>\n",
       "    <tr>\n",
       "      <th>max</th>\n",
       "      <td>72940.000000</td>\n",
       "      <td>2.000000</td>\n",
       "      <td>82.000000</td>\n",
       "      <td>1.000000</td>\n",
       "      <td>1.000000</td>\n",
       "      <td>1.000000</td>\n",
       "      <td>4.000000</td>\n",
       "      <td>1.000000</td>\n",
       "      <td>271.740000</td>\n",
       "      <td>97.600000</td>\n",
       "      <td>3.000000</td>\n",
       "      <td>1.000000</td>\n",
       "    </tr>\n",
       "  </tbody>\n",
       "</table>\n",
       "</div>"
      ],
      "text/plain": [
       "                 id       gender          age  hypertension  heart_disease  \\\n",
       "count   5110.000000  5110.000000  5110.000000   5110.000000    5110.000000   \n",
       "mean   36517.829354     0.414286    43.226614      0.097456       0.054012   \n",
       "std    21161.721625     0.493044    22.612647      0.296607       0.226063   \n",
       "min       67.000000     0.000000     0.080000      0.000000       0.000000   \n",
       "25%    17741.250000     0.000000    25.000000      0.000000       0.000000   \n",
       "50%    36932.000000     0.000000    45.000000      0.000000       0.000000   \n",
       "75%    54682.000000     1.000000    61.000000      0.000000       0.000000   \n",
       "max    72940.000000     2.000000    82.000000      1.000000       1.000000   \n",
       "\n",
       "       ever_married    work_type  Residence_type  avg_glucose_level  \\\n",
       "count   5110.000000  5110.000000     5110.000000        5110.000000   \n",
       "mean       0.656164     2.167710        0.508023         106.147677   \n",
       "std        0.475034     1.090293        0.499985          45.283560   \n",
       "min        0.000000     0.000000        0.000000          55.120000   \n",
       "25%        0.000000     2.000000        0.000000          77.245000   \n",
       "50%        1.000000     2.000000        1.000000          91.885000   \n",
       "75%        1.000000     3.000000        1.000000         114.090000   \n",
       "max        1.000000     4.000000        1.000000         271.740000   \n",
       "\n",
       "               bmi  smoking_status       stroke  \n",
       "count  4909.000000     5110.000000  5110.000000  \n",
       "mean     28.893237        1.376908     0.048728  \n",
       "std       7.854067        1.071534     0.215320  \n",
       "min      10.300000        0.000000     0.000000  \n",
       "25%      23.500000        0.000000     0.000000  \n",
       "50%      28.100000        2.000000     0.000000  \n",
       "75%      33.100000        2.000000     0.000000  \n",
       "max      97.600000        3.000000     1.000000  "
      ]
     },
     "execution_count": 12,
     "metadata": {},
     "output_type": "execute_result"
    }
   ],
   "source": [
    "df_stroke.describe()"
   ]
  },
  {
   "cell_type": "markdown",
   "metadata": {},
   "source": [
    "## 11. Identify the features that correlate with strokes"
   ]
  },
  {
   "cell_type": "code",
   "execution_count": 13,
   "metadata": {},
   "outputs": [
    {
     "data": {
      "text/html": [
       "<style  type=\"text/css\" >\n",
       "#T_dd96890c_7daa_11eb_9a3f_40ec99120880row0_col0{\n",
       "            background-color:  #08306b;\n",
       "            color:  #f1f1f1;\n",
       "        }#T_dd96890c_7daa_11eb_9a3f_40ec99120880row1_col0{\n",
       "            background-color:  #c1d9ed;\n",
       "            color:  #000000;\n",
       "        }#T_dd96890c_7daa_11eb_9a3f_40ec99120880row2_col0{\n",
       "            background-color:  #d7e6f5;\n",
       "            color:  #000000;\n",
       "        }#T_dd96890c_7daa_11eb_9a3f_40ec99120880row3_col0{\n",
       "            background-color:  #d8e7f5;\n",
       "            color:  #000000;\n",
       "        }#T_dd96890c_7daa_11eb_9a3f_40ec99120880row4_col0{\n",
       "            background-color:  #d9e7f5;\n",
       "            color:  #000000;\n",
       "        }#T_dd96890c_7daa_11eb_9a3f_40ec99120880row5_col0{\n",
       "            background-color:  #dceaf6;\n",
       "            color:  #000000;\n",
       "        }#T_dd96890c_7daa_11eb_9a3f_40ec99120880row6_col0{\n",
       "            background-color:  #e9f2fa;\n",
       "            color:  #000000;\n",
       "        }#T_dd96890c_7daa_11eb_9a3f_40ec99120880row7_col0{\n",
       "            background-color:  #ecf4fb;\n",
       "            color:  #000000;\n",
       "        }#T_dd96890c_7daa_11eb_9a3f_40ec99120880row8_col0{\n",
       "            background-color:  #eef5fc;\n",
       "            color:  #000000;\n",
       "        }#T_dd96890c_7daa_11eb_9a3f_40ec99120880row9_col0{\n",
       "            background-color:  #eff6fc;\n",
       "            color:  #000000;\n",
       "        }#T_dd96890c_7daa_11eb_9a3f_40ec99120880row10_col0{\n",
       "            background-color:  #f0f6fd;\n",
       "            color:  #000000;\n",
       "        }#T_dd96890c_7daa_11eb_9a3f_40ec99120880row11_col0{\n",
       "            background-color:  #f7fbff;\n",
       "            color:  #000000;\n",
       "        }</style><table id=\"T_dd96890c_7daa_11eb_9a3f_40ec99120880\" ><thead>    <tr>        <th class=\"blank level0\" ></th>        <th class=\"col_heading level0 col0\" >stroke</th>    </tr></thead><tbody>\n",
       "                <tr>\n",
       "                        <th id=\"T_dd96890c_7daa_11eb_9a3f_40ec99120880level0_row0\" class=\"row_heading level0 row0\" >stroke</th>\n",
       "                        <td id=\"T_dd96890c_7daa_11eb_9a3f_40ec99120880row0_col0\" class=\"data row0 col0\" >1.000000</td>\n",
       "            </tr>\n",
       "            <tr>\n",
       "                        <th id=\"T_dd96890c_7daa_11eb_9a3f_40ec99120880level0_row1\" class=\"row_heading level0 row1\" >age</th>\n",
       "                        <td id=\"T_dd96890c_7daa_11eb_9a3f_40ec99120880row1_col0\" class=\"data row1 col0\" >0.245257</td>\n",
       "            </tr>\n",
       "            <tr>\n",
       "                        <th id=\"T_dd96890c_7daa_11eb_9a3f_40ec99120880level0_row2\" class=\"row_heading level0 row2\" >heart_disease</th>\n",
       "                        <td id=\"T_dd96890c_7daa_11eb_9a3f_40ec99120880row2_col0\" class=\"data row2 col0\" >0.134914</td>\n",
       "            </tr>\n",
       "            <tr>\n",
       "                        <th id=\"T_dd96890c_7daa_11eb_9a3f_40ec99120880level0_row3\" class=\"row_heading level0 row3\" >avg_glucose_level</th>\n",
       "                        <td id=\"T_dd96890c_7daa_11eb_9a3f_40ec99120880row3_col0\" class=\"data row3 col0\" >0.131945</td>\n",
       "            </tr>\n",
       "            <tr>\n",
       "                        <th id=\"T_dd96890c_7daa_11eb_9a3f_40ec99120880level0_row4\" class=\"row_heading level0 row4\" >hypertension</th>\n",
       "                        <td id=\"T_dd96890c_7daa_11eb_9a3f_40ec99120880row4_col0\" class=\"data row4 col0\" >0.127904</td>\n",
       "            </tr>\n",
       "            <tr>\n",
       "                        <th id=\"T_dd96890c_7daa_11eb_9a3f_40ec99120880level0_row5\" class=\"row_heading level0 row5\" >ever_married</th>\n",
       "                        <td id=\"T_dd96890c_7daa_11eb_9a3f_40ec99120880row5_col0\" class=\"data row5 col0\" >0.108340</td>\n",
       "            </tr>\n",
       "            <tr>\n",
       "                        <th id=\"T_dd96890c_7daa_11eb_9a3f_40ec99120880level0_row6\" class=\"row_heading level0 row6\" >bmi</th>\n",
       "                        <td id=\"T_dd96890c_7daa_11eb_9a3f_40ec99120880row6_col0\" class=\"data row6 col0\" >0.042374</td>\n",
       "            </tr>\n",
       "            <tr>\n",
       "                        <th id=\"T_dd96890c_7daa_11eb_9a3f_40ec99120880level0_row7\" class=\"row_heading level0 row7\" >smoking_status</th>\n",
       "                        <td id=\"T_dd96890c_7daa_11eb_9a3f_40ec99120880row7_col0\" class=\"data row7 col0\" >0.028123</td>\n",
       "            </tr>\n",
       "            <tr>\n",
       "                        <th id=\"T_dd96890c_7daa_11eb_9a3f_40ec99120880level0_row8\" class=\"row_heading level0 row8\" >Residence_type</th>\n",
       "                        <td id=\"T_dd96890c_7daa_11eb_9a3f_40ec99120880row8_col0\" class=\"data row8 col0\" >0.015458</td>\n",
       "            </tr>\n",
       "            <tr>\n",
       "                        <th id=\"T_dd96890c_7daa_11eb_9a3f_40ec99120880level0_row9\" class=\"row_heading level0 row9\" >gender</th>\n",
       "                        <td id=\"T_dd96890c_7daa_11eb_9a3f_40ec99120880row9_col0\" class=\"data row9 col0\" >0.008929</td>\n",
       "            </tr>\n",
       "            <tr>\n",
       "                        <th id=\"T_dd96890c_7daa_11eb_9a3f_40ec99120880level0_row10\" class=\"row_heading level0 row10\" >id</th>\n",
       "                        <td id=\"T_dd96890c_7daa_11eb_9a3f_40ec99120880row10_col0\" class=\"data row10 col0\" >0.006388</td>\n",
       "            </tr>\n",
       "            <tr>\n",
       "                        <th id=\"T_dd96890c_7daa_11eb_9a3f_40ec99120880level0_row11\" class=\"row_heading level0 row11\" >work_type</th>\n",
       "                        <td id=\"T_dd96890c_7daa_11eb_9a3f_40ec99120880row11_col0\" class=\"data row11 col0\" >-0.032316</td>\n",
       "            </tr>\n",
       "    </tbody></table>"
      ],
      "text/plain": [
       "<pandas.io.formats.style.Styler at 0x1edba201448>"
      ]
     },
     "execution_count": 13,
     "metadata": {},
     "output_type": "execute_result"
    }
   ],
   "source": [
    "x = df_stroke.corr()\n",
    "pd.DataFrame(x['stroke']).sort_values(by='stroke',ascending = False).style.background_gradient(cmap = 'Blues')"
   ]
  },
  {
   "cell_type": "code",
   "execution_count": 32,
   "metadata": {
    "scrolled": true
   },
   "outputs": [
    {
     "data": {
      "text/html": [
       "<div>\n",
       "<style scoped>\n",
       "    .dataframe tbody tr th:only-of-type {\n",
       "        vertical-align: middle;\n",
       "    }\n",
       "\n",
       "    .dataframe tbody tr th {\n",
       "        vertical-align: top;\n",
       "    }\n",
       "\n",
       "    .dataframe thead th {\n",
       "        text-align: right;\n",
       "    }\n",
       "</style>\n",
       "<table border=\"1\" class=\"dataframe\">\n",
       "  <thead>\n",
       "    <tr style=\"text-align: right;\">\n",
       "      <th></th>\n",
       "      <th>gender</th>\n",
       "      <th>age</th>\n",
       "      <th>hypertension</th>\n",
       "      <th>heart_disease</th>\n",
       "      <th>ever_married</th>\n",
       "      <th>work_type</th>\n",
       "      <th>Residence_type</th>\n",
       "      <th>avg_glucose_level</th>\n",
       "      <th>bmi</th>\n",
       "      <th>smoking_status</th>\n",
       "      <th>stroke</th>\n",
       "    </tr>\n",
       "  </thead>\n",
       "  <tbody>\n",
       "    <tr>\n",
       "      <th>gender</th>\n",
       "      <td>1.000000</td>\n",
       "      <td>-0.030738</td>\n",
       "      <td>0.021578</td>\n",
       "      <td>0.082712</td>\n",
       "      <td>-0.037237</td>\n",
       "      <td>0.058560</td>\n",
       "      <td>-0.005014</td>\n",
       "      <td>0.053664</td>\n",
       "      <td>-0.026678</td>\n",
       "      <td>-0.060004</td>\n",
       "      <td>0.006757</td>\n",
       "    </tr>\n",
       "    <tr>\n",
       "      <th>age</th>\n",
       "      <td>-0.030738</td>\n",
       "      <td>1.000000</td>\n",
       "      <td>0.274425</td>\n",
       "      <td>0.257123</td>\n",
       "      <td>0.680782</td>\n",
       "      <td>-0.366987</td>\n",
       "      <td>0.010948</td>\n",
       "      <td>0.235838</td>\n",
       "      <td>0.333398</td>\n",
       "      <td>0.275515</td>\n",
       "      <td>0.232331</td>\n",
       "    </tr>\n",
       "    <tr>\n",
       "      <th>hypertension</th>\n",
       "      <td>0.021578</td>\n",
       "      <td>0.274425</td>\n",
       "      <td>1.000000</td>\n",
       "      <td>0.115991</td>\n",
       "      <td>0.162406</td>\n",
       "      <td>-0.052750</td>\n",
       "      <td>-0.001074</td>\n",
       "      <td>0.180543</td>\n",
       "      <td>0.167811</td>\n",
       "      <td>0.110808</td>\n",
       "      <td>0.142515</td>\n",
       "    </tr>\n",
       "    <tr>\n",
       "      <th>heart_disease</th>\n",
       "      <td>0.082712</td>\n",
       "      <td>0.257123</td>\n",
       "      <td>0.115991</td>\n",
       "      <td>1.000000</td>\n",
       "      <td>0.111245</td>\n",
       "      <td>-0.030373</td>\n",
       "      <td>-0.002362</td>\n",
       "      <td>0.154525</td>\n",
       "      <td>0.041357</td>\n",
       "      <td>0.055236</td>\n",
       "      <td>0.137938</td>\n",
       "    </tr>\n",
       "    <tr>\n",
       "      <th>ever_married</th>\n",
       "      <td>-0.037237</td>\n",
       "      <td>0.680782</td>\n",
       "      <td>0.162406</td>\n",
       "      <td>0.111245</td>\n",
       "      <td>1.000000</td>\n",
       "      <td>-0.357946</td>\n",
       "      <td>0.004989</td>\n",
       "      <td>0.151377</td>\n",
       "      <td>0.341695</td>\n",
       "      <td>0.264642</td>\n",
       "      <td>0.105089</td>\n",
       "    </tr>\n",
       "    <tr>\n",
       "      <th>work_type</th>\n",
       "      <td>0.058560</td>\n",
       "      <td>-0.366987</td>\n",
       "      <td>-0.052750</td>\n",
       "      <td>-0.030373</td>\n",
       "      <td>-0.357946</td>\n",
       "      <td>1.000000</td>\n",
       "      <td>-0.005422</td>\n",
       "      <td>-0.050581</td>\n",
       "      <td>-0.304876</td>\n",
       "      <td>-0.310911</td>\n",
       "      <td>-0.033756</td>\n",
       "    </tr>\n",
       "    <tr>\n",
       "      <th>Residence_type</th>\n",
       "      <td>-0.005014</td>\n",
       "      <td>0.010948</td>\n",
       "      <td>-0.001074</td>\n",
       "      <td>-0.002362</td>\n",
       "      <td>0.004989</td>\n",
       "      <td>-0.005422</td>\n",
       "      <td>1.000000</td>\n",
       "      <td>-0.007617</td>\n",
       "      <td>-0.000122</td>\n",
       "      <td>0.013810</td>\n",
       "      <td>0.006031</td>\n",
       "    </tr>\n",
       "    <tr>\n",
       "      <th>avg_glucose_level</th>\n",
       "      <td>0.053664</td>\n",
       "      <td>0.235838</td>\n",
       "      <td>0.180543</td>\n",
       "      <td>0.154525</td>\n",
       "      <td>0.151377</td>\n",
       "      <td>-0.050581</td>\n",
       "      <td>-0.007617</td>\n",
       "      <td>1.000000</td>\n",
       "      <td>0.175502</td>\n",
       "      <td>0.066335</td>\n",
       "      <td>0.138936</td>\n",
       "    </tr>\n",
       "    <tr>\n",
       "      <th>bmi</th>\n",
       "      <td>-0.026678</td>\n",
       "      <td>0.333398</td>\n",
       "      <td>0.167811</td>\n",
       "      <td>0.041357</td>\n",
       "      <td>0.341695</td>\n",
       "      <td>-0.304876</td>\n",
       "      <td>-0.000122</td>\n",
       "      <td>0.175502</td>\n",
       "      <td>1.000000</td>\n",
       "      <td>0.224473</td>\n",
       "      <td>0.042374</td>\n",
       "    </tr>\n",
       "    <tr>\n",
       "      <th>smoking_status</th>\n",
       "      <td>-0.060004</td>\n",
       "      <td>0.275515</td>\n",
       "      <td>0.110808</td>\n",
       "      <td>0.055236</td>\n",
       "      <td>0.264642</td>\n",
       "      <td>-0.310911</td>\n",
       "      <td>0.013810</td>\n",
       "      <td>0.066335</td>\n",
       "      <td>0.224473</td>\n",
       "      <td>1.000000</td>\n",
       "      <td>0.051558</td>\n",
       "    </tr>\n",
       "    <tr>\n",
       "      <th>stroke</th>\n",
       "      <td>0.006757</td>\n",
       "      <td>0.232331</td>\n",
       "      <td>0.142515</td>\n",
       "      <td>0.137938</td>\n",
       "      <td>0.105089</td>\n",
       "      <td>-0.033756</td>\n",
       "      <td>0.006031</td>\n",
       "      <td>0.138936</td>\n",
       "      <td>0.042374</td>\n",
       "      <td>0.051558</td>\n",
       "      <td>1.000000</td>\n",
       "    </tr>\n",
       "  </tbody>\n",
       "</table>\n",
       "</div>"
      ],
      "text/plain": [
       "                     gender       age  hypertension  heart_disease  \\\n",
       "gender             1.000000 -0.030738      0.021578       0.082712   \n",
       "age               -0.030738  1.000000      0.274425       0.257123   \n",
       "hypertension       0.021578  0.274425      1.000000       0.115991   \n",
       "heart_disease      0.082712  0.257123      0.115991       1.000000   \n",
       "ever_married      -0.037237  0.680782      0.162406       0.111245   \n",
       "work_type          0.058560 -0.366987     -0.052750      -0.030373   \n",
       "Residence_type    -0.005014  0.010948     -0.001074      -0.002362   \n",
       "avg_glucose_level  0.053664  0.235838      0.180543       0.154525   \n",
       "bmi               -0.026678  0.333398      0.167811       0.041357   \n",
       "smoking_status    -0.060004  0.275515      0.110808       0.055236   \n",
       "stroke             0.006757  0.232331      0.142515       0.137938   \n",
       "\n",
       "                   ever_married  work_type  Residence_type  avg_glucose_level  \\\n",
       "gender                -0.037237   0.058560       -0.005014           0.053664   \n",
       "age                    0.680782  -0.366987        0.010948           0.235838   \n",
       "hypertension           0.162406  -0.052750       -0.001074           0.180543   \n",
       "heart_disease          0.111245  -0.030373       -0.002362           0.154525   \n",
       "ever_married           1.000000  -0.357946        0.004989           0.151377   \n",
       "work_type             -0.357946   1.000000       -0.005422          -0.050581   \n",
       "Residence_type         0.004989  -0.005422        1.000000          -0.007617   \n",
       "avg_glucose_level      0.151377  -0.050581       -0.007617           1.000000   \n",
       "bmi                    0.341695  -0.304876       -0.000122           0.175502   \n",
       "smoking_status         0.264642  -0.310911        0.013810           0.066335   \n",
       "stroke                 0.105089  -0.033756        0.006031           0.138936   \n",
       "\n",
       "                        bmi  smoking_status    stroke  \n",
       "gender            -0.026678       -0.060004  0.006757  \n",
       "age                0.333398        0.275515  0.232331  \n",
       "hypertension       0.167811        0.110808  0.142515  \n",
       "heart_disease      0.041357        0.055236  0.137938  \n",
       "ever_married       0.341695        0.264642  0.105089  \n",
       "work_type         -0.304876       -0.310911 -0.033756  \n",
       "Residence_type    -0.000122        0.013810  0.006031  \n",
       "avg_glucose_level  0.175502        0.066335  0.138936  \n",
       "bmi                1.000000        0.224473  0.042374  \n",
       "smoking_status     0.224473        1.000000  0.051558  \n",
       "stroke             0.042374        0.051558  1.000000  "
      ]
     },
     "execution_count": 32,
     "metadata": {},
     "output_type": "execute_result"
    }
   ],
   "source": [
    "x"
   ]
  },
  {
   "cell_type": "code",
   "execution_count": 14,
   "metadata": {
    "scrolled": true
   },
   "outputs": [
    {
     "name": "stderr",
     "output_type": "stream",
     "text": [
      "C:\\Users\\User\\anaconda3\\lib\\site-packages\\numpy\\core\\_asarray.py:83: VisibleDeprecationWarning: Creating an ndarray from ragged nested sequences (which is a list-or-tuple of lists-or-tuples-or ndarrays with different lengths or shapes) is deprecated. If you meant to do this, you must specify 'dtype=object' when creating the ndarray\n",
      "  return array(a, dtype, copy=False, order=order)\n",
      "C:\\Users\\User\\anaconda3\\lib\\site-packages\\numpy\\core\\_asarray.py:83: VisibleDeprecationWarning: Creating an ndarray from ragged nested sequences (which is a list-or-tuple of lists-or-tuples-or ndarrays with different lengths or shapes) is deprecated. If you meant to do this, you must specify 'dtype=object' when creating the ndarray\n",
      "  return array(a, dtype, copy=False, order=order)\n",
      "C:\\Users\\User\\anaconda3\\lib\\site-packages\\numpy\\core\\_asarray.py:83: VisibleDeprecationWarning: Creating an ndarray from ragged nested sequences (which is a list-or-tuple of lists-or-tuples-or ndarrays with different lengths or shapes) is deprecated. If you meant to do this, you must specify 'dtype=object' when creating the ndarray\n",
      "  return array(a, dtype, copy=False, order=order)\n",
      "C:\\Users\\User\\anaconda3\\lib\\site-packages\\numpy\\core\\_asarray.py:83: VisibleDeprecationWarning: Creating an ndarray from ragged nested sequences (which is a list-or-tuple of lists-or-tuples-or ndarrays with different lengths or shapes) is deprecated. If you meant to do this, you must specify 'dtype=object' when creating the ndarray\n",
      "  return array(a, dtype, copy=False, order=order)\n",
      "C:\\Users\\User\\anaconda3\\lib\\site-packages\\numpy\\core\\_asarray.py:83: VisibleDeprecationWarning: Creating an ndarray from ragged nested sequences (which is a list-or-tuple of lists-or-tuples-or ndarrays with different lengths or shapes) is deprecated. If you meant to do this, you must specify 'dtype=object' when creating the ndarray\n",
      "  return array(a, dtype, copy=False, order=order)\n",
      "C:\\Users\\User\\anaconda3\\lib\\site-packages\\numpy\\core\\_asarray.py:83: VisibleDeprecationWarning: Creating an ndarray from ragged nested sequences (which is a list-or-tuple of lists-or-tuples-or ndarrays with different lengths or shapes) is deprecated. If you meant to do this, you must specify 'dtype=object' when creating the ndarray\n",
      "  return array(a, dtype, copy=False, order=order)\n",
      "C:\\Users\\User\\anaconda3\\lib\\site-packages\\numpy\\core\\_asarray.py:83: VisibleDeprecationWarning: Creating an ndarray from ragged nested sequences (which is a list-or-tuple of lists-or-tuples-or ndarrays with different lengths or shapes) is deprecated. If you meant to do this, you must specify 'dtype=object' when creating the ndarray\n",
      "  return array(a, dtype, copy=False, order=order)\n",
      "C:\\Users\\User\\anaconda3\\lib\\site-packages\\numpy\\core\\_asarray.py:83: VisibleDeprecationWarning: Creating an ndarray from ragged nested sequences (which is a list-or-tuple of lists-or-tuples-or ndarrays with different lengths or shapes) is deprecated. If you meant to do this, you must specify 'dtype=object' when creating the ndarray\n",
      "  return array(a, dtype, copy=False, order=order)\n",
      "C:\\Users\\User\\anaconda3\\lib\\site-packages\\numpy\\core\\_asarray.py:83: VisibleDeprecationWarning: Creating an ndarray from ragged nested sequences (which is a list-or-tuple of lists-or-tuples-or ndarrays with different lengths or shapes) is deprecated. If you meant to do this, you must specify 'dtype=object' when creating the ndarray\n",
      "  return array(a, dtype, copy=False, order=order)\n",
      "C:\\Users\\User\\anaconda3\\lib\\site-packages\\numpy\\core\\_asarray.py:83: VisibleDeprecationWarning: Creating an ndarray from ragged nested sequences (which is a list-or-tuple of lists-or-tuples-or ndarrays with different lengths or shapes) is deprecated. If you meant to do this, you must specify 'dtype=object' when creating the ndarray\n",
      "  return array(a, dtype, copy=False, order=order)\n"
     ]
    },
    {
     "data": {
      "image/png": "[encoded data removed]",
      "text/plain": [
       "<Figure size 432x432 with 1 Axes>"
      ]
     },
     "metadata": {
      "needs_background": "light"
     },
     "output_type": "display_data"
    },
    {
     "data": {
      "image/png": "[encoded data removed]",
      "text/plain": [
       "<Figure size 432x432 with 1 Axes>"
      ]
     },
     "metadata": {
      "needs_background": "light"
     },
     "output_type": "display_data"
    },
    {
     "data": {
      "image/png": "[encoded data removed]",
      "text/plain": [
       "<Figure size 432x432 with 1 Axes>"
      ]
     },
     "metadata": {
      "needs_background": "light"
     },
     "output_type": "display_data"
    },
    {
     "data": {
      "image/png": "[encoded data removed]",
      "text/plain": [
       "<Figure size 432x432 with 1 Axes>"
      ]
     },
     "metadata": {
      "needs_background": "light"
     },
     "output_type": "display_data"
    },
    {
     "data": {
      "image/png": "[encoded data removed]",
      "text/plain": [
       "<Figure size 432x432 with 1 Axes>"
      ]
     },
     "metadata": {
      "needs_background": "light"
     },
     "output_type": "display_data"
    },
    {
     "data": {
      "image/png": "[encoded data removed]",
      "text/plain": [
       "<Figure size 432x432 with 1 Axes>"
      ]
     },
     "metadata": {
      "needs_background": "light"
     },
     "output_type": "display_data"
    },
    {
     "data": {
      "image/png": "[encoded data removed]",
      "text/plain": [
       "<Figure size 432x432 with 1 Axes>"
      ]
     },
     "metadata": {
      "needs_background": "light"
     },
     "output_type": "display_data"
    },
    {
     "data": {
      "image/png": "[encoded data removed]",
      "text/plain": [
       "<Figure size 432x432 with 1 Axes>"
      ]
     },
     "metadata": {
      "needs_background": "light"
     },
     "output_type": "display_data"
    },
    {
     "data": {
      "image/png": "[encoded data removed]",
      "text/plain": [
       "<Figure size 432x432 with 1 Axes>"
      ]
     },
     "metadata": {
      "needs_background": "light"
     },
     "output_type": "display_data"
    },
    {
     "data": {
      "image/png": "[encoded data removed]",
      "text/plain": [
       "<Figure size 432x432 with 1 Axes>"
      ]
     },
     "metadata": {
      "needs_background": "light"
     },
     "output_type": "display_data"
    }
   ],
   "source": [
    "features = ['gender', 'age', 'hypertension', 'heart_disease', 'ever_married',\n",
    "       'work_type', 'Residence_type', 'avg_glucose_level', 'bmi',\n",
    "       'smoking_status']\n",
    "for col in features:\n",
    "    df_stroke.boxplot(column=col, by='stroke', figsize=(6,6))\n",
    "    plt.title(col)\n",
    "plt.show()"
   ]
  },
  {
   "cell_type": "markdown",
   "metadata": {},
   "source": [
    "## 12. Identify if there is null data"
   ]
  },
  {
   "cell_type": "code",
   "execution_count": 15,
   "metadata": {},
   "outputs": [
    {
     "data": {
      "text/plain": [
       "id                     0\n",
       "gender                 0\n",
       "age                    0\n",
       "hypertension           0\n",
       "heart_disease          0\n",
       "ever_married           0\n",
       "work_type              0\n",
       "Residence_type         0\n",
       "avg_glucose_level      0\n",
       "bmi                  201\n",
       "smoking_status         0\n",
       "stroke                 0\n",
       "dtype: int64"
      ]
     },
     "execution_count": 15,
     "metadata": {},
     "output_type": "execute_result"
    }
   ],
   "source": [
    "df_stroke.isnull().sum()"
   ]
  },
  {
   "cell_type": "markdown",
   "metadata": {},
   "source": [
    "## 13. Identify if bmi data is normalised"
   ]
  },
  {
   "cell_type": "code",
   "execution_count": 16,
   "metadata": {},
   "outputs": [
    {
     "name": "stderr",
     "output_type": "stream",
     "text": [
      "C:\\Users\\User\\anaconda3\\lib\\site-packages\\ipykernel_launcher.py:37: UserWarning: Matplotlib is currently using module://ipykernel.pylab.backend_inline, which is a non-GUI backend, so cannot show the figure.\n"
     ]
    },
    {
     "data": {
      "image/png": "[encoded data removed]",
      "text/plain": [
       "<Figure size 720x288 with 2 Axes>"
      ]
     },
     "metadata": {
      "needs_background": "light"
     },
     "output_type": "display_data"
    },
    {
     "data": {
      "image/png": "[encoded data removed]",
      "text/plain": [
       "<Figure size 720x288 with 1 Axes>"
      ]
     },
     "metadata": {
      "needs_background": "light"
     },
     "output_type": "display_data"
    }
   ],
   "source": [
    "# Get the variable to examine\n",
    "var = df_stroke['bmi']\n",
    "\n",
    "# Create a function that we can re-use\n",
    "def show_distribution(var_data):\n",
    "    from matplotlib import pyplot as plt\n",
    "\n",
    "    # Get statistics\n",
    "    min_val = var_data.min()\n",
    "    max_val = var_data.max()\n",
    "    mean_val = var_data.mean()\n",
    "    med_val = var_data.median()\n",
    "    mod_val = var_data.mode()[0]\n",
    "\n",
    "    # Create a figure for 2 subplots (2 rows, 1 column)\n",
    "    fig, ax = plt.subplots(2, 1, figsize = (10,4))\n",
    "\n",
    "    # Plot the histogram   \n",
    "    ax[0].hist(var_data)\n",
    "    ax[0].set_ylabel('Frequency')\n",
    "\n",
    "    # Add lines for the mean, median, and mode\n",
    "    ax[0].axvline(x=min_val, color = 'gray', linestyle='dashed', linewidth = 2)\n",
    "    ax[0].axvline(x=mean_val, color = 'cyan', linestyle='dashed', linewidth = 2)\n",
    "    ax[0].axvline(x=med_val, color = 'red', linestyle='dashed', linewidth = 2)\n",
    "    ax[0].axvline(x=mod_val, color = 'yellow', linestyle='dashed', linewidth = 2)\n",
    "    ax[0].axvline(x=max_val, color = 'gray', linestyle='dashed', linewidth = 2)\n",
    "\n",
    "    # Plot the boxplot   \n",
    "    ax[1].boxplot(var_data, vert=False)\n",
    "    ax[1].set_xlabel('Value')\n",
    "\n",
    "    # Add a title to the Figure\n",
    "    fig.suptitle('Data Distribution')\n",
    "\n",
    "    # Show the figure\n",
    "    fig.show()\n",
    "\n",
    "# Get the variable to examine\n",
    "col = df_stroke['bmi']\n",
    "# Call the function\n",
    "show_distribution(col)\n",
    "\n",
    "def show_density(var_data):\n",
    "    fig = plt.figure(figsize=(10,4))\n",
    "\n",
    "    # Plot density\n",
    "    var_data.plot.density()\n",
    "\n",
    "    # Add titles and labels\n",
    "    plt.title('Data Density')\n",
    "\n",
    "    # Show the mean, median, and mode\n",
    "    plt.axvline(x=var_data.mean(), color = 'cyan', linestyle='dashed', linewidth = 2)\n",
    "    plt.axvline(x=var_data.median(), color = 'red', linestyle='dashed', linewidth = 2)\n",
    "    plt.axvline(x=var_data.mode()[0], color = 'yellow', linestyle='dashed', linewidth = 2)\n",
    "\n",
    "    # Show the figure\n",
    "    plt.show()\n",
    "\n",
    "# Get the density of Grade\n",
    "show_density(col)"
   ]
  },
  {
   "cell_type": "markdown",
   "metadata": {},
   "source": [
    "## 14. As the bmi data is not normally distributed the null rows are removed"
   ]
  },
  {
   "cell_type": "code",
   "execution_count": 17,
   "metadata": {
    "scrolled": true
   },
   "outputs": [
    {
     "data": {
      "text/plain": [
       "id                   0\n",
       "gender               0\n",
       "age                  0\n",
       "hypertension         0\n",
       "heart_disease        0\n",
       "ever_married         0\n",
       "work_type            0\n",
       "Residence_type       0\n",
       "avg_glucose_level    0\n",
       "bmi                  0\n",
       "smoking_status       0\n",
       "stroke               0\n",
       "dtype: int64"
      ]
     },
     "execution_count": 17,
     "metadata": {},
     "output_type": "execute_result"
    }
   ],
   "source": [
    "df_stroke = df_stroke.dropna(axis=0, how='any')\n",
    "df_stroke.isnull().sum()"
   ]
  },
  {
   "cell_type": "markdown",
   "metadata": {},
   "source": [
    "## 15. Exploring stroke patient vs non-stroke patient population"
   ]
  },
  {
   "cell_type": "code",
   "execution_count": 18,
   "metadata": {},
   "outputs": [
    {
     "data": {
      "image/png": "[encoded data removed]",
      "text/plain": [
       "<Figure size 1440x360 with 2 Axes>"
      ]
     },
     "metadata": {
      "needs_background": "light"
     },
     "output_type": "display_data"
    }
   ],
   "source": [
    "fig, (ax3,ax4) = plt.subplots(1,2, figsize = (20,5))\n",
    "plt.subplots_adjust(hspace = 0.5)\n",
    "bin_x = range(25,80,2)\n",
    "\n",
    "\n",
    "ax3.hist(df_stroke[df_stroke['stroke']==1].age.tolist(),bins=bin_x,rwidth=0.8)\n",
    "ax3.set_xticks(range(25,80,2))\n",
    "ax3.set_xlabel('Age Range',fontsize=15)\n",
    "ax3.set_ylabel('Population Count',fontsize=15)\n",
    "ax3.set_title('People who suffered from a stroke',fontsize=20)\n",
    "\n",
    "ax4.hist(df_stroke[df_stroke['stroke']==0].age.tolist(),bins=bin_x,rwidth=0.8)\n",
    "ax4.set_xticks(range(25,80,2))\n",
    "ax4.set_xlabel('Age Range',fontsize=15)\n",
    "ax4.set_ylabel('Population Count',fontsize=15)\n",
    "ax4.set_title('People who did not suffered from a stroke',fontsize=20)\n",
    "\n",
    "plt.show()"
   ]
  },
  {
   "cell_type": "code",
   "execution_count": 19,
   "metadata": {},
   "outputs": [
    {
     "data": {
      "image/png": "[encoded data removed]",
      "text/plain": [
       "<Figure size 864x360 with 2 Axes>"
      ]
     },
     "metadata": {
      "needs_background": "light"
     },
     "output_type": "display_data"
    }
   ],
   "source": [
    "fig, (ax6,ax7) = plt.subplots(1,2,figsize = (12,5),constrained_layout=False)\n",
    "plt.subplots_adjust(wspace = 0.5)\n",
    "\n",
    "ax6.bar(df_stroke.stroke.unique(),df_stroke.stroke.value_counts(),color = ['blue','red'],width = 0.8)\n",
    "ax6.set_xticks(df_stroke.stroke.unique())\n",
    "ax6.set_xticklabels(('Non-Stroke','Stroke'))\n",
    "\n",
    "ax7.bar(df_stroke.stroke.unique(),df_stroke.stroke.value_counts(),color = ['blue','red'],width = 0.8)\n",
    "ax7.set_xticks(df_stroke.stroke.unique())\n",
    "ax7.set_xticklabels(('Non-Stroke','Stroke'))\n",
    "ax7.set_yscale('log')\n",
    "\n",
    "plt.show()"
   ]
  },
  {
   "cell_type": "code",
   "execution_count": 26,
   "metadata": {},
   "outputs": [
    {
     "data": {
      "text/plain": [
       "0    4700\n",
       "1     209\n",
       "Name: stroke, dtype: int64"
      ]
     },
     "execution_count": 26,
     "metadata": {},
     "output_type": "execute_result"
    }
   ],
   "source": [
    "df_stroke.stroke.value_counts()"
   ]
  },
  {
   "cell_type": "markdown",
   "metadata": {},
   "source": [
    "## 16. Explore gender within the sample population"
   ]
  },
  {
   "cell_type": "code",
   "execution_count": 20,
   "metadata": {},
   "outputs": [
    {
     "name": "stdout",
     "output_type": "stream",
     "text": [
      "Male : 2011\n",
      "Female : 2897\n",
      "Other : 1\n"
     ]
    }
   ],
   "source": [
    "female_count = df_stroke.gender.value_counts().tolist()[0]\n",
    "male_count = df_stroke.gender.value_counts().tolist()[1]\n",
    "other_count = df_stroke.gender.value_counts().tolist()[2]\n",
    "print('Male :',male_count)\n",
    "print('Female :',female_count)\n",
    "print('Other :',other_count)"
   ]
  },
  {
   "cell_type": "code",
   "execution_count": 21,
   "metadata": {},
   "outputs": [
    {
     "data": {
      "image/png": "[encoded data removed]",
      "text/plain": [
       "<Figure size 864x360 with 2 Axes>"
      ]
     },
     "metadata": {
      "needs_background": "light"
     },
     "output_type": "display_data"
    }
   ],
   "source": [
    "fig, (ax1,ax2) = plt.subplots(1,2,figsize = (12,5),constrained_layout=False)\n",
    "plt.subplots_adjust(wspace = 0.5)\n",
    "ax1.bar(df_stroke.gender.unique(),df_stroke.gender.value_counts(),color = ['blue','red'],width = 0.8)\n",
    "ax1.set_xticks(df_stroke.gender.unique())\n",
    "ax1.set_xticklabels(('Female','Male', \"Other\"))\n",
    "\n",
    "ax2.pie((female_count, male_count, other_count), labels = ('Female','Male', \"Other\"), autopct='%1.1f%%', shadow=True, startangle=90, explode=[0.1, 0.1 ,0.1])\n",
    "\n",
    "plt.show()"
   ]
  },
  {
   "cell_type": "code",
   "execution_count": 30,
   "metadata": {},
   "outputs": [
    {
     "data": {
      "image/png": "[encoded data removed]",
      "text/plain": [
       "<Figure size 864x360 with 2 Axes>"
      ]
     },
     "metadata": {
      "needs_background": "light"
     },
     "output_type": "display_data"
    }
   ],
   "source": [
    "female_count = df_stroke[df_stroke['stroke']==1].gender.value_counts().tolist()[0]\n",
    "male_count = df_stroke[df_stroke['stroke']==1].gender.value_counts().tolist()[1]\n",
    "#other_count = df_stroke[df_stroke['stroke']==1].gender.value_counts().tolist()[2]\n",
    "\n",
    "\n",
    "\n",
    "fig, (ax1,ax2) = plt.subplots(1,2,figsize = (12,5),constrained_layout=False)\n",
    "plt.subplots_adjust(wspace = 0.5)\n",
    "ax1.bar(df_stroke[df_stroke['stroke']==1].gender.unique(),df_stroke[df_stroke['stroke']==1].gender.value_counts(),color = ['blue','red'],width = 0.8)\n",
    "ax1.set_xticks(df_stroke.gender.unique())\n",
    "ax1.set_xticklabels(('Female','Male'))\n",
    "\n",
    "ax2.pie((female_count, male_count), labels = ('Female','Male'), autopct='%1.1f%%', shadow=True, startangle=90, explode=[0.1, 0.1])\n",
    "\n",
    "plt.show()"
   ]
  },
  {
   "cell_type": "code",
   "execution_count": 22,
   "metadata": {},
   "outputs": [
    {
     "data": {
      "image/png": "[encoded data removed]",
      "text/plain": [
       "<Figure size 1440x360 with 2 Axes>"
      ]
     },
     "metadata": {
      "needs_background": "light"
     },
     "output_type": "display_data"
    }
   ],
   "source": [
    "# Population Distribution with age and sex\n",
    "\n",
    "fig, (ax1,ax2) = plt.subplots(1,2, figsize = (20,5),constrained_layout=False)\n",
    "bin_x = range(25,80,2)\n",
    "\n",
    "ax1.hist(df_stroke.age.tolist(),bins=bin_x,rwidth=0.9)\n",
    "ax1.set_xticks(range(25,80,2))\n",
    "ax1.set_xlabel('Age',fontsize=15)\n",
    "ax1.set_ylabel('Population Count',fontsize=15)\n",
    "ax1.set_title('Total population distribution',fontsize=20)\n",
    "\n",
    "ax2.hist(df_stroke[df_stroke['gender']==0].age.tolist(),label = 'Female',bins=bin_x,rwidth=0.9)\n",
    "ax2.hist(df_stroke[df_stroke['gender']==1].age.tolist(),label = 'Male',bins=bin_x,rwidth=0.5)\n",
    "ax2.hist(df_stroke[df_stroke['gender']==2].age.tolist(),label = 'Other',bins=bin_x,rwidth=0.5)\n",
    "\n",
    "\n",
    "ax2.legend()\n",
    "ax2.set_xticks(range(25,80,2))\n",
    "ax2.set_xlabel('Age',fontsize=15)\n",
    "ax2.set_ylabel('Population Count',fontsize=15)\n",
    "ax2.set_title('Population per Gender',fontsize=20)\n",
    "\n",
    "plt.show()"
   ]
  },
  {
   "cell_type": "markdown",
   "metadata": {},
   "source": [
    "## 17. The ID column will be removed as it is not needed to train the machine learning model"
   ]
  },
  {
   "cell_type": "code",
   "execution_count": 23,
   "metadata": {},
   "outputs": [
    {
     "name": "stdout",
     "output_type": "stream",
     "text": [
      "The column \"id\" was successfully deleted\n"
     ]
    }
   ],
   "source": [
    "try:\n",
    "    del df_stroke['id']\n",
    "    print('The column \"id\" was successfully deleted')\n",
    "except:\n",
    "    print('The column \"id\" was not deleted')"
   ]
  },
  {
   "cell_type": "markdown",
   "metadata": {},
   "source": [
    "## 18. Now that the data has been transformed and cleansed it will be saved as a csv for use in the classification model"
   ]
  },
  {
   "cell_type": "code",
   "execution_count": 24,
   "metadata": {},
   "outputs": [
    {
     "name": "stdout",
     "output_type": "stream",
     "text": [
      "The csv was successfully saved as cleansed-healthcare-dataset-stroke-data.csv\n"
     ]
    }
   ],
   "source": [
    "df_stroke.to_csv('data/cleansed-healthcare-dataset-stroke-data.csv', index=False)\n",
    "print('The csv was successfully saved as cleansed-healthcare-dataset-stroke-data.csv')"
   ]
  },
  {
   "cell_type": "code",
   "execution_count": null,
   "metadata": {},
   "outputs": [],
   "source": []
  }
 ],
 "metadata": {
  "kernelspec": {
   "display_name": "Python 3",
   "language": "python",
   "name": "python3"
  },
  "language_info": {
   "codemirror_mode": {
    "name": "ipython",
    "version": 3
   },
   "file_extension": ".py",
   "mimetype": "text/x-python",
   "name": "python",
   "nbconvert_exporter": "python",
   "pygments_lexer": "ipython3",
   "version": "3.7.6"
  }
 },
 "nbformat": 4,
 "nbformat_minor": 4
}
