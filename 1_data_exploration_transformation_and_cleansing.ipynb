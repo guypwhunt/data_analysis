{
 "cells": [
  {
   "cell_type": "raw",
   "metadata": {},
   "source": [
    "# Data Exploration, Transformation and Cleansing of Stroke Dataset"
   ]
  },
  {
   "cell_type": "markdown",
   "metadata": {},
   "source": [
    "## 1. Firstly the necessary libraries are loaded including numpy, pandas, scipy and matplotlib"
   ]
  },
  {
   "cell_type": "code",
   "execution_count": 1,
   "metadata": {
    "tags": []
   },
   "outputs": [
    {
     "name": "stdout",
     "output_type": "stream",
     "text": [
      "The libraries were loaded successfully\n"
     ]
    }
   ],
   "source": [
    "# Import Libraries\n",
    "try:\n",
    "    import numpy as np\n",
    "    import pandas as pd\n",
    "    import scipy.stats as stats\n",
    "    import matplotlib.pyplot as plt\n",
    "    %matplotlib inline\n",
    "    print('The libraries were loaded successfully')\n",
    "    \n",
    "except:\n",
    "    print('There was an error loading the libraries')"
   ]
  },
  {
   "cell_type": "markdown",
   "metadata": {},
   "source": [
    "## 2. The dataset is loaded from a csv and the top rows are loaded"
   ]
  },
  {
   "cell_type": "code",
   "execution_count": 3,
   "metadata": {},
   "outputs": [
    {
     "data": {
      "text/html": [
       "<div>\n",
       "<style scoped>\n",
       "    .dataframe tbody tr th:only-of-type {\n",
       "        vertical-align: middle;\n",
       "    }\n",
       "\n",
       "    .dataframe tbody tr th {\n",
       "        vertical-align: top;\n",
       "    }\n",
       "\n",
       "    .dataframe thead th {\n",
       "        text-align: right;\n",
       "    }\n",
       "</style>\n",
       "<table border=\"1\" class=\"dataframe\">\n",
       "  <thead>\n",
       "    <tr style=\"text-align: right;\">\n",
       "      <th></th>\n",
       "      <th>id</th>\n",
       "      <th>gender</th>\n",
       "      <th>age</th>\n",
       "      <th>hypertension</th>\n",
       "      <th>heart_disease</th>\n",
       "      <th>ever_married</th>\n",
       "      <th>work_type</th>\n",
       "      <th>Residence_type</th>\n",
       "      <th>avg_glucose_level</th>\n",
       "      <th>bmi</th>\n",
       "      <th>smoking_status</th>\n",
       "      <th>stroke</th>\n",
       "    </tr>\n",
       "  </thead>\n",
       "  <tbody>\n",
       "    <tr>\n",
       "      <th>0</th>\n",
       "      <td>9046</td>\n",
       "      <td>Male</td>\n",
       "      <td>67.0</td>\n",
       "      <td>0</td>\n",
       "      <td>1</td>\n",
       "      <td>Yes</td>\n",
       "      <td>Private</td>\n",
       "      <td>Urban</td>\n",
       "      <td>228.69</td>\n",
       "      <td>36.6</td>\n",
       "      <td>formerly smoked</td>\n",
       "      <td>1</td>\n",
       "    </tr>\n",
       "    <tr>\n",
       "      <th>1</th>\n",
       "      <td>51676</td>\n",
       "      <td>Female</td>\n",
       "      <td>61.0</td>\n",
       "      <td>0</td>\n",
       "      <td>0</td>\n",
       "      <td>Yes</td>\n",
       "      <td>Self-employed</td>\n",
       "      <td>Rural</td>\n",
       "      <td>202.21</td>\n",
       "      <td>NaN</td>\n",
       "      <td>never smoked</td>\n",
       "      <td>1</td>\n",
       "    </tr>\n",
       "    <tr>\n",
       "      <th>2</th>\n",
       "      <td>31112</td>\n",
       "      <td>Male</td>\n",
       "      <td>80.0</td>\n",
       "      <td>0</td>\n",
       "      <td>1</td>\n",
       "      <td>Yes</td>\n",
       "      <td>Private</td>\n",
       "      <td>Rural</td>\n",
       "      <td>105.92</td>\n",
       "      <td>32.5</td>\n",
       "      <td>never smoked</td>\n",
       "      <td>1</td>\n",
       "    </tr>\n",
       "    <tr>\n",
       "      <th>3</th>\n",
       "      <td>60182</td>\n",
       "      <td>Female</td>\n",
       "      <td>49.0</td>\n",
       "      <td>0</td>\n",
       "      <td>0</td>\n",
       "      <td>Yes</td>\n",
       "      <td>Private</td>\n",
       "      <td>Urban</td>\n",
       "      <td>171.23</td>\n",
       "      <td>34.4</td>\n",
       "      <td>smokes</td>\n",
       "      <td>1</td>\n",
       "    </tr>\n",
       "    <tr>\n",
       "      <th>4</th>\n",
       "      <td>1665</td>\n",
       "      <td>Female</td>\n",
       "      <td>79.0</td>\n",
       "      <td>1</td>\n",
       "      <td>0</td>\n",
       "      <td>Yes</td>\n",
       "      <td>Self-employed</td>\n",
       "      <td>Rural</td>\n",
       "      <td>174.12</td>\n",
       "      <td>24.0</td>\n",
       "      <td>never smoked</td>\n",
       "      <td>1</td>\n",
       "    </tr>\n",
       "  </tbody>\n",
       "</table>\n",
       "</div>"
      ],
      "text/plain": [
       "      id  gender   age  hypertension  heart_disease ever_married  \\\n",
       "0   9046    Male  67.0             0              1          Yes   \n",
       "1  51676  Female  61.0             0              0          Yes   \n",
       "2  31112    Male  80.0             0              1          Yes   \n",
       "3  60182  Female  49.0             0              0          Yes   \n",
       "4   1665  Female  79.0             1              0          Yes   \n",
       "\n",
       "       work_type Residence_type  avg_glucose_level   bmi   smoking_status  \\\n",
       "0        Private          Urban             228.69  36.6  formerly smoked   \n",
       "1  Self-employed          Rural             202.21   NaN     never smoked   \n",
       "2        Private          Rural             105.92  32.5     never smoked   \n",
       "3        Private          Urban             171.23  34.4           smokes   \n",
       "4  Self-employed          Rural             174.12  24.0     never smoked   \n",
       "\n",
       "   stroke  \n",
       "0       1  \n",
       "1       1  \n",
       "2       1  \n",
       "3       1  \n",
       "4       1  "
      ]
     },
     "execution_count": 3,
     "metadata": {},
     "output_type": "execute_result"
    }
   ],
   "source": [
    "# Load Dataset\n",
    "df_stroke = pd.read_csv('data/healthcare-dataset-stroke-data.csv',delimiter=',',header='infer')\n",
    "\n",
    "# Display Top Rows of the Dataset\n",
    "df_stroke.head()"
   ]
  },
  {
   "cell_type": "markdown",
   "metadata": {},
   "source": [
    "## 3. The shape of the dataset is identified"
   ]
  },
  {
   "cell_type": "code",
   "execution_count": 4,
   "metadata": {
    "scrolled": true,
    "tags": []
   },
   "outputs": [
    {
     "name": "stdout",
     "output_type": "stream",
     "text": [
      "The data set has 5110 rows\n",
      "The data set has 12 columns\n"
     ]
    }
   ],
   "source": [
    "# Identify the shape of the dataset\n",
    "shape = df_stroke.shape\n",
    "\n",
    "print(f'The data set has {shape[0]} rows')\n",
    "print(f'The data set has {shape[1]} columns')"
   ]
  },
  {
   "cell_type": "markdown",
   "metadata": {},
   "source": [
    "## 4. Identify the type of data in each column"
   ]
  },
  {
   "cell_type": "code",
   "execution_count": 5,
   "metadata": {},
   "outputs": [
    {
     "name": "stdout",
     "output_type": "stream",
     "text": [
      "<class 'pandas.core.frame.DataFrame'>\n",
      "RangeIndex: 5110 entries, 0 to 5109\n",
      "Data columns (total 12 columns):\n",
      " #   Column             Non-Null Count  Dtype  \n",
      "---  ------             --------------  -----  \n",
      " 0   id                 5110 non-null   int64  \n",
      " 1   gender             5110 non-null   object \n",
      " 2   age                5110 non-null   float64\n",
      " 3   hypertension       5110 non-null   int64  \n",
      " 4   heart_disease      5110 non-null   int64  \n",
      " 5   ever_married       5110 non-null   object \n",
      " 6   work_type          5110 non-null   object \n",
      " 7   Residence_type     5110 non-null   object \n",
      " 8   avg_glucose_level  5110 non-null   float64\n",
      " 9   bmi                4909 non-null   float64\n",
      " 10  smoking_status     5110 non-null   object \n",
      " 11  stroke             5110 non-null   int64  \n",
      "dtypes: float64(3), int64(4), object(5)\n",
      "memory usage: 479.2+ KB\n"
     ]
    }
   ],
   "source": [
    "# Identify Each Column's Data Types\n",
    "df_stroke.info()"
   ]
  },
  {
   "cell_type": "markdown",
   "metadata": {},
   "source": [
    "## 5. Identify if there is duplicated data"
   ]
  },
  {
   "cell_type": "code",
   "execution_count": 6,
   "metadata": {},
   "outputs": [
    {
     "name": "stdout",
     "output_type": "stream",
     "text": [
      "There are 0 duplicated rows\n"
     ]
    }
   ],
   "source": [
    "# Identify if the Dataset contains duplicated rows\n",
    "duplicated_rows = df_stroke.duplicated().sum()\n",
    "print(f'There are {duplicated_rows} duplicated rows')\n"
   ]
  },
  {
   "cell_type": "markdown",
   "metadata": {},
   "source": [
    "## 6. Describe numerical columns"
   ]
  },
  {
   "cell_type": "code",
   "execution_count": 7,
   "metadata": {},
   "outputs": [
    {
     "data": {
      "text/html": [
       "<div>\n",
       "<style scoped>\n",
       "    .dataframe tbody tr th:only-of-type {\n",
       "        vertical-align: middle;\n",
       "    }\n",
       "\n",
       "    .dataframe tbody tr th {\n",
       "        vertical-align: top;\n",
       "    }\n",
       "\n",
       "    .dataframe thead th {\n",
       "        text-align: right;\n",
       "    }\n",
       "</style>\n",
       "<table border=\"1\" class=\"dataframe\">\n",
       "  <thead>\n",
       "    <tr style=\"text-align: right;\">\n",
       "      <th></th>\n",
       "      <th>id</th>\n",
       "      <th>age</th>\n",
       "      <th>hypertension</th>\n",
       "      <th>heart_disease</th>\n",
       "      <th>avg_glucose_level</th>\n",
       "      <th>bmi</th>\n",
       "      <th>stroke</th>\n",
       "    </tr>\n",
       "  </thead>\n",
       "  <tbody>\n",
       "    <tr>\n",
       "      <th>count</th>\n",
       "      <td>5110.000000</td>\n",
       "      <td>5110.000000</td>\n",
       "      <td>5110.000000</td>\n",
       "      <td>5110.000000</td>\n",
       "      <td>5110.000000</td>\n",
       "      <td>4909.000000</td>\n",
       "      <td>5110.000000</td>\n",
       "    </tr>\n",
       "    <tr>\n",
       "      <th>mean</th>\n",
       "      <td>36517.829354</td>\n",
       "      <td>43.226614</td>\n",
       "      <td>0.097456</td>\n",
       "      <td>0.054012</td>\n",
       "      <td>106.147677</td>\n",
       "      <td>28.893237</td>\n",
       "      <td>0.048728</td>\n",
       "    </tr>\n",
       "    <tr>\n",
       "      <th>std</th>\n",
       "      <td>21161.721625</td>\n",
       "      <td>22.612647</td>\n",
       "      <td>0.296607</td>\n",
       "      <td>0.226063</td>\n",
       "      <td>45.283560</td>\n",
       "      <td>7.854067</td>\n",
       "      <td>0.215320</td>\n",
       "    </tr>\n",
       "    <tr>\n",
       "      <th>min</th>\n",
       "      <td>67.000000</td>\n",
       "      <td>0.080000</td>\n",
       "      <td>0.000000</td>\n",
       "      <td>0.000000</td>\n",
       "      <td>55.120000</td>\n",
       "      <td>10.300000</td>\n",
       "      <td>0.000000</td>\n",
       "    </tr>\n",
       "    <tr>\n",
       "      <th>25%</th>\n",
       "      <td>17741.250000</td>\n",
       "      <td>25.000000</td>\n",
       "      <td>0.000000</td>\n",
       "      <td>0.000000</td>\n",
       "      <td>77.245000</td>\n",
       "      <td>23.500000</td>\n",
       "      <td>0.000000</td>\n",
       "    </tr>\n",
       "    <tr>\n",
       "      <th>50%</th>\n",
       "      <td>36932.000000</td>\n",
       "      <td>45.000000</td>\n",
       "      <td>0.000000</td>\n",
       "      <td>0.000000</td>\n",
       "      <td>91.885000</td>\n",
       "      <td>28.100000</td>\n",
       "      <td>0.000000</td>\n",
       "    </tr>\n",
       "    <tr>\n",
       "      <th>75%</th>\n",
       "      <td>54682.000000</td>\n",
       "      <td>61.000000</td>\n",
       "      <td>0.000000</td>\n",
       "      <td>0.000000</td>\n",
       "      <td>114.090000</td>\n",
       "      <td>33.100000</td>\n",
       "      <td>0.000000</td>\n",
       "    </tr>\n",
       "    <tr>\n",
       "      <th>max</th>\n",
       "      <td>72940.000000</td>\n",
       "      <td>82.000000</td>\n",
       "      <td>1.000000</td>\n",
       "      <td>1.000000</td>\n",
       "      <td>271.740000</td>\n",
       "      <td>97.600000</td>\n",
       "      <td>1.000000</td>\n",
       "    </tr>\n",
       "  </tbody>\n",
       "</table>\n",
       "</div>"
      ],
      "text/plain": [
       "                 id          age  hypertension  heart_disease  \\\n",
       "count   5110.000000  5110.000000   5110.000000    5110.000000   \n",
       "mean   36517.829354    43.226614      0.097456       0.054012   \n",
       "std    21161.721625    22.612647      0.296607       0.226063   \n",
       "min       67.000000     0.080000      0.000000       0.000000   \n",
       "25%    17741.250000    25.000000      0.000000       0.000000   \n",
       "50%    36932.000000    45.000000      0.000000       0.000000   \n",
       "75%    54682.000000    61.000000      0.000000       0.000000   \n",
       "max    72940.000000    82.000000      1.000000       1.000000   \n",
       "\n",
       "       avg_glucose_level          bmi       stroke  \n",
       "count        5110.000000  4909.000000  5110.000000  \n",
       "mean          106.147677    28.893237     0.048728  \n",
       "std            45.283560     7.854067     0.215320  \n",
       "min            55.120000    10.300000     0.000000  \n",
       "25%            77.245000    23.500000     0.000000  \n",
       "50%            91.885000    28.100000     0.000000  \n",
       "75%           114.090000    33.100000     0.000000  \n",
       "max           271.740000    97.600000     1.000000  "
      ]
     },
     "execution_count": 7,
     "metadata": {},
     "output_type": "execute_result"
    }
   ],
   "source": [
    "# Obtain Summary Information on Numerical Columns\n",
    "df_stroke.describe()"
   ]
  },
  {
   "cell_type": "markdown",
   "metadata": {},
   "source": [
    "## 7. Describe categorical columns"
   ]
  },
  {
   "cell_type": "code",
   "execution_count": 8,
   "metadata": {},
   "outputs": [
    {
     "data": {
      "text/html": [
       "<div>\n",
       "<style scoped>\n",
       "    .dataframe tbody tr th:only-of-type {\n",
       "        vertical-align: middle;\n",
       "    }\n",
       "\n",
       "    .dataframe tbody tr th {\n",
       "        vertical-align: top;\n",
       "    }\n",
       "\n",
       "    .dataframe thead th {\n",
       "        text-align: right;\n",
       "    }\n",
       "</style>\n",
       "<table border=\"1\" class=\"dataframe\">\n",
       "  <thead>\n",
       "    <tr style=\"text-align: right;\">\n",
       "      <th></th>\n",
       "      <th>gender</th>\n",
       "      <th>ever_married</th>\n",
       "      <th>work_type</th>\n",
       "      <th>Residence_type</th>\n",
       "      <th>smoking_status</th>\n",
       "    </tr>\n",
       "  </thead>\n",
       "  <tbody>\n",
       "    <tr>\n",
       "      <th>count</th>\n",
       "      <td>5110</td>\n",
       "      <td>5110</td>\n",
       "      <td>5110</td>\n",
       "      <td>5110</td>\n",
       "      <td>5110</td>\n",
       "    </tr>\n",
       "    <tr>\n",
       "      <th>unique</th>\n",
       "      <td>3</td>\n",
       "      <td>2</td>\n",
       "      <td>5</td>\n",
       "      <td>2</td>\n",
       "      <td>4</td>\n",
       "    </tr>\n",
       "    <tr>\n",
       "      <th>top</th>\n",
       "      <td>Female</td>\n",
       "      <td>Yes</td>\n",
       "      <td>Private</td>\n",
       "      <td>Urban</td>\n",
       "      <td>never smoked</td>\n",
       "    </tr>\n",
       "    <tr>\n",
       "      <th>freq</th>\n",
       "      <td>2994</td>\n",
       "      <td>3353</td>\n",
       "      <td>2925</td>\n",
       "      <td>2596</td>\n",
       "      <td>1892</td>\n",
       "    </tr>\n",
       "  </tbody>\n",
       "</table>\n",
       "</div>"
      ],
      "text/plain": [
       "        gender ever_married work_type Residence_type smoking_status\n",
       "count     5110         5110      5110           5110           5110\n",
       "unique       3            2         5              2              4\n",
       "top     Female          Yes   Private          Urban   never smoked\n",
       "freq      2994         3353      2925           2596           1892"
      ]
     },
     "execution_count": 8,
     "metadata": {},
     "output_type": "execute_result"
    }
   ],
   "source": [
    "# Obtain Summary Information on String Columns\n",
    "categorical_variables = ['gender', 'ever_married', 'work_type', 'Residence_type', 'smoking_status']\n",
    "df_stroke[categorical_variables].describe()    "
   ]
  },
  {
   "cell_type": "markdown",
   "metadata": {},
   "source": [
    "## 8. Identify all the unique values in the categorical columns"
   ]
  },
  {
   "cell_type": "code",
   "execution_count": 9,
   "metadata": {},
   "outputs": [
    {
     "name": "stdout",
     "output_type": "stream",
     "text": [
      "The unique values for the column gender are:\n",
      "['Male' 'Female' 'Other']\n",
      "\n",
      "\n",
      "The unique values for the column ever_married are:\n",
      "['Yes' 'No']\n",
      "\n",
      "\n",
      "The unique values for the column work_type are:\n",
      "['Private' 'Self-employed' 'Govt_job' 'children' 'Never_worked']\n",
      "\n",
      "\n",
      "The unique values for the column Residence_type are:\n",
      "['Urban' 'Rural']\n",
      "\n",
      "\n",
      "The unique values for the column smoking_status are:\n",
      "['formerly smoked' 'never smoked' 'smokes' 'Unknown']\n",
      "\n",
      "\n"
     ]
    }
   ],
   "source": [
    "# Identify all the unique values in the categorical columns\n",
    "for col in categorical_variables:\n",
    "    print(f'The unique values for the column {col} are:')\n",
    "    print(df_stroke[col].unique())\n",
    "    print('\\n')"
   ]
  },
  {
   "cell_type": "markdown",
   "metadata": {},
   "source": [
    "## 9. Convert categorical columns to numerical"
   ]
  },
  {
   "cell_type": "code",
   "execution_count": 10,
   "metadata": {},
   "outputs": [
    {
     "name": "stdout",
     "output_type": "stream",
     "text": [
      "The values in the column gender have been updated from male to 1 and female to 0\n",
      "\n",
      "The values in the column ever_married have been updated from yes to 1 and no to 0\n",
      "\n",
      "The values in the column work_type have been updated from Private to 2, from Self-employed to 3,\n",
      "from Govt_job to 0, from children to 4 and from Never_worked to 1\n",
      "\n",
      "The values in the column Residence_type have been updated from Urban to 1 and from Rural to 0\n",
      "\n",
      "The values in the column smoking_status have been updated from formerly smoked to 1,\n",
      "from never smoked to 2, from smokes to 3, from Unknown to 0\n",
      "\n"
     ]
    }
   ],
   "source": [
    "# Convert gender from a categorical column to numerical column\n",
    "df_stroke.gender = pd.Categorical(df_stroke.gender)\n",
    "df_stroke['gender'] = df_stroke.gender.cat.codes\n",
    "print('The values in the column gender have been updated from male to 1 and female to 0\\n')\n",
    "\n",
    "# Convert ever_married from a categorical column to numerical column\n",
    "df_stroke.ever_married = pd.Categorical(df_stroke.ever_married)\n",
    "df_stroke['ever_married'] = df_stroke.ever_married.cat.codes\n",
    "print('The values in the column ever_married have been updated from yes to 1 and no to 0\\n')\n",
    "\n",
    "# Convert ever_married from a categorical column to numerical column\n",
    "df_stroke.work_type = pd.Categorical(df_stroke.work_type)\n",
    "df_stroke['work_type'] = df_stroke.work_type.cat.codes\n",
    "print('''The values in the column work_type have been updated from Private to 2, from Self-employed to 3,\n",
    "from Govt_job to 0, from children to 4 and from Never_worked to 1\\n''')\n",
    "\n",
    "# Convert Residence_type from a categorical column to numerical column\n",
    "df_stroke.Residence_type = pd.Categorical(df_stroke.Residence_type)\n",
    "df_stroke['Residence_type'] = df_stroke.Residence_type.cat.codes\n",
    "print('The values in the column Residence_type have been updated from Urban to 1 and from Rural to 0\\n')\n",
    "\n",
    "# Convert smoking_status from a categorical column to numerical column\n",
    "df_stroke.smoking_status = pd.Categorical(df_stroke.smoking_status)\n",
    "df_stroke['smoking_status'] = df_stroke.smoking_status.cat.codes\n",
    "print('''The values in the column smoking_status have been updated from formerly smoked to 1,\n",
    "from never smoked to 2, from smokes to 3, from Unknown to 0\\n''')"
   ]
  },
  {
   "cell_type": "markdown",
   "metadata": {},
   "source": [
    "## 10. Now we can review the transformed dataset"
   ]
  },
  {
   "cell_type": "code",
   "execution_count": 11,
   "metadata": {},
   "outputs": [
    {
     "data": {
      "text/html": [
       "<div>\n",
       "<style scoped>\n",
       "    .dataframe tbody tr th:only-of-type {\n",
       "        vertical-align: middle;\n",
       "    }\n",
       "\n",
       "    .dataframe tbody tr th {\n",
       "        vertical-align: top;\n",
       "    }\n",
       "\n",
       "    .dataframe thead th {\n",
       "        text-align: right;\n",
       "    }\n",
       "</style>\n",
       "<table border=\"1\" class=\"dataframe\">\n",
       "  <thead>\n",
       "    <tr style=\"text-align: right;\">\n",
       "      <th></th>\n",
       "      <th>id</th>\n",
       "      <th>gender</th>\n",
       "      <th>age</th>\n",
       "      <th>hypertension</th>\n",
       "      <th>heart_disease</th>\n",
       "      <th>ever_married</th>\n",
       "      <th>work_type</th>\n",
       "      <th>Residence_type</th>\n",
       "      <th>avg_glucose_level</th>\n",
       "      <th>bmi</th>\n",
       "      <th>smoking_status</th>\n",
       "      <th>stroke</th>\n",
       "    </tr>\n",
       "  </thead>\n",
       "  <tbody>\n",
       "    <tr>\n",
       "      <th>0</th>\n",
       "      <td>9046</td>\n",
       "      <td>1</td>\n",
       "      <td>67.0</td>\n",
       "      <td>0</td>\n",
       "      <td>1</td>\n",
       "      <td>1</td>\n",
       "      <td>2</td>\n",
       "      <td>1</td>\n",
       "      <td>228.69</td>\n",
       "      <td>36.6</td>\n",
       "      <td>1</td>\n",
       "      <td>1</td>\n",
       "    </tr>\n",
       "    <tr>\n",
       "      <th>1</th>\n",
       "      <td>51676</td>\n",
       "      <td>0</td>\n",
       "      <td>61.0</td>\n",
       "      <td>0</td>\n",
       "      <td>0</td>\n",
       "      <td>1</td>\n",
       "      <td>3</td>\n",
       "      <td>0</td>\n",
       "      <td>202.21</td>\n",
       "      <td>NaN</td>\n",
       "      <td>2</td>\n",
       "      <td>1</td>\n",
       "    </tr>\n",
       "    <tr>\n",
       "      <th>2</th>\n",
       "      <td>31112</td>\n",
       "      <td>1</td>\n",
       "      <td>80.0</td>\n",
       "      <td>0</td>\n",
       "      <td>1</td>\n",
       "      <td>1</td>\n",
       "      <td>2</td>\n",
       "      <td>0</td>\n",
       "      <td>105.92</td>\n",
       "      <td>32.5</td>\n",
       "      <td>2</td>\n",
       "      <td>1</td>\n",
       "    </tr>\n",
       "    <tr>\n",
       "      <th>3</th>\n",
       "      <td>60182</td>\n",
       "      <td>0</td>\n",
       "      <td>49.0</td>\n",
       "      <td>0</td>\n",
       "      <td>0</td>\n",
       "      <td>1</td>\n",
       "      <td>2</td>\n",
       "      <td>1</td>\n",
       "      <td>171.23</td>\n",
       "      <td>34.4</td>\n",
       "      <td>3</td>\n",
       "      <td>1</td>\n",
       "    </tr>\n",
       "    <tr>\n",
       "      <th>4</th>\n",
       "      <td>1665</td>\n",
       "      <td>0</td>\n",
       "      <td>79.0</td>\n",
       "      <td>1</td>\n",
       "      <td>0</td>\n",
       "      <td>1</td>\n",
       "      <td>3</td>\n",
       "      <td>0</td>\n",
       "      <td>174.12</td>\n",
       "      <td>24.0</td>\n",
       "      <td>2</td>\n",
       "      <td>1</td>\n",
       "    </tr>\n",
       "  </tbody>\n",
       "</table>\n",
       "</div>"
      ],
      "text/plain": [
       "      id  gender   age  hypertension  heart_disease  ever_married  work_type  \\\n",
       "0   9046       1  67.0             0              1             1          2   \n",
       "1  51676       0  61.0             0              0             1          3   \n",
       "2  31112       1  80.0             0              1             1          2   \n",
       "3  60182       0  49.0             0              0             1          2   \n",
       "4   1665       0  79.0             1              0             1          3   \n",
       "\n",
       "   Residence_type  avg_glucose_level   bmi  smoking_status  stroke  \n",
       "0               1             228.69  36.6               1       1  \n",
       "1               0             202.21   NaN               2       1  \n",
       "2               0             105.92  32.5               2       1  \n",
       "3               1             171.23  34.4               3       1  \n",
       "4               0             174.12  24.0               2       1  "
      ]
     },
     "execution_count": 11,
     "metadata": {},
     "output_type": "execute_result"
    }
   ],
   "source": [
    "# View the top rows in the transformed dataset\n",
    "df_stroke.head()"
   ]
  },
  {
   "cell_type": "code",
   "execution_count": 12,
   "metadata": {},
   "outputs": [
    {
     "data": {
      "text/html": [
       "<div>\n",
       "<style scoped>\n",
       "    .dataframe tbody tr th:only-of-type {\n",
       "        vertical-align: middle;\n",
       "    }\n",
       "\n",
       "    .dataframe tbody tr th {\n",
       "        vertical-align: top;\n",
       "    }\n",
       "\n",
       "    .dataframe thead th {\n",
       "        text-align: right;\n",
       "    }\n",
       "</style>\n",
       "<table border=\"1\" class=\"dataframe\">\n",
       "  <thead>\n",
       "    <tr style=\"text-align: right;\">\n",
       "      <th></th>\n",
       "      <th>id</th>\n",
       "      <th>gender</th>\n",
       "      <th>age</th>\n",
       "      <th>hypertension</th>\n",
       "      <th>heart_disease</th>\n",
       "      <th>ever_married</th>\n",
       "      <th>work_type</th>\n",
       "      <th>Residence_type</th>\n",
       "      <th>avg_glucose_level</th>\n",
       "      <th>bmi</th>\n",
       "      <th>smoking_status</th>\n",
       "      <th>stroke</th>\n",
       "    </tr>\n",
       "  </thead>\n",
       "  <tbody>\n",
       "    <tr>\n",
       "      <th>count</th>\n",
       "      <td>5110.000000</td>\n",
       "      <td>5110.000000</td>\n",
       "      <td>5110.000000</td>\n",
       "      <td>5110.000000</td>\n",
       "      <td>5110.000000</td>\n",
       "      <td>5110.000000</td>\n",
       "      <td>5110.000000</td>\n",
       "      <td>5110.000000</td>\n",
       "      <td>5110.000000</td>\n",
       "      <td>4909.000000</td>\n",
       "      <td>5110.000000</td>\n",
       "      <td>5110.000000</td>\n",
       "    </tr>\n",
       "    <tr>\n",
       "      <th>mean</th>\n",
       "      <td>36517.829354</td>\n",
       "      <td>0.414286</td>\n",
       "      <td>43.226614</td>\n",
       "      <td>0.097456</td>\n",
       "      <td>0.054012</td>\n",
       "      <td>0.656164</td>\n",
       "      <td>2.167710</td>\n",
       "      <td>0.508023</td>\n",
       "      <td>106.147677</td>\n",
       "      <td>28.893237</td>\n",
       "      <td>1.376908</td>\n",
       "      <td>0.048728</td>\n",
       "    </tr>\n",
       "    <tr>\n",
       "      <th>std</th>\n",
       "      <td>21161.721625</td>\n",
       "      <td>0.493044</td>\n",
       "      <td>22.612647</td>\n",
       "      <td>0.296607</td>\n",
       "      <td>0.226063</td>\n",
       "      <td>0.475034</td>\n",
       "      <td>1.090293</td>\n",
       "      <td>0.499985</td>\n",
       "      <td>45.283560</td>\n",
       "      <td>7.854067</td>\n",
       "      <td>1.071534</td>\n",
       "      <td>0.215320</td>\n",
       "    </tr>\n",
       "    <tr>\n",
       "      <th>min</th>\n",
       "      <td>67.000000</td>\n",
       "      <td>0.000000</td>\n",
       "      <td>0.080000</td>\n",
       "      <td>0.000000</td>\n",
       "      <td>0.000000</td>\n",
       "      <td>0.000000</td>\n",
       "      <td>0.000000</td>\n",
       "      <td>0.000000</td>\n",
       "      <td>55.120000</td>\n",
       "      <td>10.300000</td>\n",
       "      <td>0.000000</td>\n",
       "      <td>0.000000</td>\n",
       "    </tr>\n",
       "    <tr>\n",
       "      <th>25%</th>\n",
       "      <td>17741.250000</td>\n",
       "      <td>0.000000</td>\n",
       "      <td>25.000000</td>\n",
       "      <td>0.000000</td>\n",
       "      <td>0.000000</td>\n",
       "      <td>0.000000</td>\n",
       "      <td>2.000000</td>\n",
       "      <td>0.000000</td>\n",
       "      <td>77.245000</td>\n",
       "      <td>23.500000</td>\n",
       "      <td>0.000000</td>\n",
       "      <td>0.000000</td>\n",
       "    </tr>\n",
       "    <tr>\n",
       "      <th>50%</th>\n",
       "      <td>36932.000000</td>\n",
       "      <td>0.000000</td>\n",
       "      <td>45.000000</td>\n",
       "      <td>0.000000</td>\n",
       "      <td>0.000000</td>\n",
       "      <td>1.000000</td>\n",
       "      <td>2.000000</td>\n",
       "      <td>1.000000</td>\n",
       "      <td>91.885000</td>\n",
       "      <td>28.100000</td>\n",
       "      <td>2.000000</td>\n",
       "      <td>0.000000</td>\n",
       "    </tr>\n",
       "    <tr>\n",
       "      <th>75%</th>\n",
       "      <td>54682.000000</td>\n",
       "      <td>1.000000</td>\n",
       "      <td>61.000000</td>\n",
       "      <td>0.000000</td>\n",
       "      <td>0.000000</td>\n",
       "      <td>1.000000</td>\n",
       "      <td>3.000000</td>\n",
       "      <td>1.000000</td>\n",
       "      <td>114.090000</td>\n",
       "      <td>33.100000</td>\n",
       "      <td>2.000000</td>\n",
       "      <td>0.000000</td>\n",
       "    </tr>\n",
       "    <tr>\n",
       "      <th>max</th>\n",
       "      <td>72940.000000</td>\n",
       "      <td>2.000000</td>\n",
       "      <td>82.000000</td>\n",
       "      <td>1.000000</td>\n",
       "      <td>1.000000</td>\n",
       "      <td>1.000000</td>\n",
       "      <td>4.000000</td>\n",
       "      <td>1.000000</td>\n",
       "      <td>271.740000</td>\n",
       "      <td>97.600000</td>\n",
       "      <td>3.000000</td>\n",
       "      <td>1.000000</td>\n",
       "    </tr>\n",
       "  </tbody>\n",
       "</table>\n",
       "</div>"
      ],
      "text/plain": [
       "                 id       gender          age  hypertension  heart_disease  \\\n",
       "count   5110.000000  5110.000000  5110.000000   5110.000000    5110.000000   \n",
       "mean   36517.829354     0.414286    43.226614      0.097456       0.054012   \n",
       "std    21161.721625     0.493044    22.612647      0.296607       0.226063   \n",
       "min       67.000000     0.000000     0.080000      0.000000       0.000000   \n",
       "25%    17741.250000     0.000000    25.000000      0.000000       0.000000   \n",
       "50%    36932.000000     0.000000    45.000000      0.000000       0.000000   \n",
       "75%    54682.000000     1.000000    61.000000      0.000000       0.000000   \n",
       "max    72940.000000     2.000000    82.000000      1.000000       1.000000   \n",
       "\n",
       "       ever_married    work_type  Residence_type  avg_glucose_level  \\\n",
       "count   5110.000000  5110.000000     5110.000000        5110.000000   \n",
       "mean       0.656164     2.167710        0.508023         106.147677   \n",
       "std        0.475034     1.090293        0.499985          45.283560   \n",
       "min        0.000000     0.000000        0.000000          55.120000   \n",
       "25%        0.000000     2.000000        0.000000          77.245000   \n",
       "50%        1.000000     2.000000        1.000000          91.885000   \n",
       "75%        1.000000     3.000000        1.000000         114.090000   \n",
       "max        1.000000     4.000000        1.000000         271.740000   \n",
       "\n",
       "               bmi  smoking_status       stroke  \n",
       "count  4909.000000     5110.000000  5110.000000  \n",
       "mean     28.893237        1.376908     0.048728  \n",
       "std       7.854067        1.071534     0.215320  \n",
       "min      10.300000        0.000000     0.000000  \n",
       "25%      23.500000        0.000000     0.000000  \n",
       "50%      28.100000        2.000000     0.000000  \n",
       "75%      33.100000        2.000000     0.000000  \n",
       "max      97.600000        3.000000     1.000000  "
      ]
     },
     "execution_count": 12,
     "metadata": {},
     "output_type": "execute_result"
    }
   ],
   "source": [
    "# View the summary statistics for all the transformed columns\n",
    "df_stroke.describe()"
   ]
  },
  {
   "cell_type": "markdown",
   "metadata": {},
   "source": [
    "## 11. Identify the features that correlate with strokes"
   ]
  },
  {
   "cell_type": "code",
   "execution_count": 13,
   "metadata": {},
   "outputs": [
    {
     "data": {
      "text/html": [
       "<style  type=\"text/css\" >\n",
       "#T_ac53695c_8331_11eb_9d5a_40ec99120880row0_col0{\n",
       "            background-color:  #08306b;\n",
       "            color:  #f1f1f1;\n",
       "        }#T_ac53695c_8331_11eb_9d5a_40ec99120880row1_col0{\n",
       "            background-color:  #c1d9ed;\n",
       "            color:  #000000;\n",
       "        }#T_ac53695c_8331_11eb_9d5a_40ec99120880row2_col0{\n",
       "            background-color:  #d7e6f5;\n",
       "            color:  #000000;\n",
       "        }#T_ac53695c_8331_11eb_9d5a_40ec99120880row3_col0{\n",
       "            background-color:  #d8e7f5;\n",
       "            color:  #000000;\n",
       "        }#T_ac53695c_8331_11eb_9d5a_40ec99120880row4_col0{\n",
       "            background-color:  #d9e7f5;\n",
       "            color:  #000000;\n",
       "        }#T_ac53695c_8331_11eb_9d5a_40ec99120880row5_col0{\n",
       "            background-color:  #dceaf6;\n",
       "            color:  #000000;\n",
       "        }#T_ac53695c_8331_11eb_9d5a_40ec99120880row6_col0{\n",
       "            background-color:  #e9f2fa;\n",
       "            color:  #000000;\n",
       "        }#T_ac53695c_8331_11eb_9d5a_40ec99120880row7_col0{\n",
       "            background-color:  #ecf4fb;\n",
       "            color:  #000000;\n",
       "        }#T_ac53695c_8331_11eb_9d5a_40ec99120880row8_col0{\n",
       "            background-color:  #eef5fc;\n",
       "            color:  #000000;\n",
       "        }#T_ac53695c_8331_11eb_9d5a_40ec99120880row9_col0{\n",
       "            background-color:  #eff6fc;\n",
       "            color:  #000000;\n",
       "        }#T_ac53695c_8331_11eb_9d5a_40ec99120880row10_col0{\n",
       "            background-color:  #f0f6fd;\n",
       "            color:  #000000;\n",
       "        }#T_ac53695c_8331_11eb_9d5a_40ec99120880row11_col0{\n",
       "            background-color:  #f7fbff;\n",
       "            color:  #000000;\n",
       "        }</style><table id=\"T_ac53695c_8331_11eb_9d5a_40ec99120880\" ><thead>    <tr>        <th class=\"blank level0\" ></th>        <th class=\"col_heading level0 col0\" >stroke</th>    </tr></thead><tbody>\n",
       "                <tr>\n",
       "                        <th id=\"T_ac53695c_8331_11eb_9d5a_40ec99120880level0_row0\" class=\"row_heading level0 row0\" >stroke</th>\n",
       "                        <td id=\"T_ac53695c_8331_11eb_9d5a_40ec99120880row0_col0\" class=\"data row0 col0\" >1.000000</td>\n",
       "            </tr>\n",
       "            <tr>\n",
       "                        <th id=\"T_ac53695c_8331_11eb_9d5a_40ec99120880level0_row1\" class=\"row_heading level0 row1\" >age</th>\n",
       "                        <td id=\"T_ac53695c_8331_11eb_9d5a_40ec99120880row1_col0\" class=\"data row1 col0\" >0.245257</td>\n",
       "            </tr>\n",
       "            <tr>\n",
       "                        <th id=\"T_ac53695c_8331_11eb_9d5a_40ec99120880level0_row2\" class=\"row_heading level0 row2\" >heart_disease</th>\n",
       "                        <td id=\"T_ac53695c_8331_11eb_9d5a_40ec99120880row2_col0\" class=\"data row2 col0\" >0.134914</td>\n",
       "            </tr>\n",
       "            <tr>\n",
       "                        <th id=\"T_ac53695c_8331_11eb_9d5a_40ec99120880level0_row3\" class=\"row_heading level0 row3\" >avg_glucose_level</th>\n",
       "                        <td id=\"T_ac53695c_8331_11eb_9d5a_40ec99120880row3_col0\" class=\"data row3 col0\" >0.131945</td>\n",
       "            </tr>\n",
       "            <tr>\n",
       "                        <th id=\"T_ac53695c_8331_11eb_9d5a_40ec99120880level0_row4\" class=\"row_heading level0 row4\" >hypertension</th>\n",
       "                        <td id=\"T_ac53695c_8331_11eb_9d5a_40ec99120880row4_col0\" class=\"data row4 col0\" >0.127904</td>\n",
       "            </tr>\n",
       "            <tr>\n",
       "                        <th id=\"T_ac53695c_8331_11eb_9d5a_40ec99120880level0_row5\" class=\"row_heading level0 row5\" >ever_married</th>\n",
       "                        <td id=\"T_ac53695c_8331_11eb_9d5a_40ec99120880row5_col0\" class=\"data row5 col0\" >0.108340</td>\n",
       "            </tr>\n",
       "            <tr>\n",
       "                        <th id=\"T_ac53695c_8331_11eb_9d5a_40ec99120880level0_row6\" class=\"row_heading level0 row6\" >bmi</th>\n",
       "                        <td id=\"T_ac53695c_8331_11eb_9d5a_40ec99120880row6_col0\" class=\"data row6 col0\" >0.042374</td>\n",
       "            </tr>\n",
       "            <tr>\n",
       "                        <th id=\"T_ac53695c_8331_11eb_9d5a_40ec99120880level0_row7\" class=\"row_heading level0 row7\" >smoking_status</th>\n",
       "                        <td id=\"T_ac53695c_8331_11eb_9d5a_40ec99120880row7_col0\" class=\"data row7 col0\" >0.028123</td>\n",
       "            </tr>\n",
       "            <tr>\n",
       "                        <th id=\"T_ac53695c_8331_11eb_9d5a_40ec99120880level0_row8\" class=\"row_heading level0 row8\" >Residence_type</th>\n",
       "                        <td id=\"T_ac53695c_8331_11eb_9d5a_40ec99120880row8_col0\" class=\"data row8 col0\" >0.015458</td>\n",
       "            </tr>\n",
       "            <tr>\n",
       "                        <th id=\"T_ac53695c_8331_11eb_9d5a_40ec99120880level0_row9\" class=\"row_heading level0 row9\" >gender</th>\n",
       "                        <td id=\"T_ac53695c_8331_11eb_9d5a_40ec99120880row9_col0\" class=\"data row9 col0\" >0.008929</td>\n",
       "            </tr>\n",
       "            <tr>\n",
       "                        <th id=\"T_ac53695c_8331_11eb_9d5a_40ec99120880level0_row10\" class=\"row_heading level0 row10\" >id</th>\n",
       "                        <td id=\"T_ac53695c_8331_11eb_9d5a_40ec99120880row10_col0\" class=\"data row10 col0\" >0.006388</td>\n",
       "            </tr>\n",
       "            <tr>\n",
       "                        <th id=\"T_ac53695c_8331_11eb_9d5a_40ec99120880level0_row11\" class=\"row_heading level0 row11\" >work_type</th>\n",
       "                        <td id=\"T_ac53695c_8331_11eb_9d5a_40ec99120880row11_col0\" class=\"data row11 col0\" >-0.032316</td>\n",
       "            </tr>\n",
       "    </tbody></table>"
      ],
      "text/plain": [
       "<pandas.io.formats.style.Styler at 0x1dc5af73fc8>"
      ]
     },
     "execution_count": 13,
     "metadata": {},
     "output_type": "execute_result"
    }
   ],
   "source": [
    "# dentify the features that correlate with strokes\n",
    "x = df_stroke.corr()\n",
    "pd.DataFrame(x['stroke']).sort_values(by='stroke',ascending = False).style.background_gradient(cmap = 'Blues')"
   ]
  },
  {
   "cell_type": "code",
   "execution_count": 17,
   "metadata": {
    "scrolled": true
   },
   "outputs": [
    {
     "data": {
      "text/html": [
       "<style  type=\"text/css\" >\n",
       "#T_de129892_8331_11eb_ac49_40ec99120880row0_col0,#T_de129892_8331_11eb_ac49_40ec99120880row0_col7,#T_de129892_8331_11eb_ac49_40ec99120880row1_col7{\n",
       "            background-color:  #f3f8fe;\n",
       "            color:  #000000;\n",
       "        }#T_de129892_8331_11eb_ac49_40ec99120880row0_col1,#T_de129892_8331_11eb_ac49_40ec99120880row6_col4,#T_de129892_8331_11eb_ac49_40ec99120880row9_col3{\n",
       "            background-color:  #eaf2fb;\n",
       "            color:  #000000;\n",
       "        }#T_de129892_8331_11eb_ac49_40ec99120880row0_col2{\n",
       "            background-color:  #81badb;\n",
       "            color:  #000000;\n",
       "        }#T_de129892_8331_11eb_ac49_40ec99120880row0_col3{\n",
       "            background-color:  #d6e5f4;\n",
       "            color:  #000000;\n",
       "        }#T_de129892_8331_11eb_ac49_40ec99120880row0_col4,#T_de129892_8331_11eb_ac49_40ec99120880row3_col11{\n",
       "            background-color:  #d8e7f5;\n",
       "            color:  #000000;\n",
       "        }#T_de129892_8331_11eb_ac49_40ec99120880row0_col5{\n",
       "            background-color:  #a9cfe5;\n",
       "            color:  #000000;\n",
       "        }#T_de129892_8331_11eb_ac49_40ec99120880row0_col6,#T_de129892_8331_11eb_ac49_40ec99120880row8_col10{\n",
       "            background-color:  #c8dcf0;\n",
       "            color:  #000000;\n",
       "        }#T_de129892_8331_11eb_ac49_40ec99120880row0_col8{\n",
       "            background-color:  #d5e5f4;\n",
       "            color:  #000000;\n",
       "        }#T_de129892_8331_11eb_ac49_40ec99120880row0_col9,#T_de129892_8331_11eb_ac49_40ec99120880row1_col11,#T_de129892_8331_11eb_ac49_40ec99120880row10_col2{\n",
       "            background-color:  #c1d9ed;\n",
       "            color:  #000000;\n",
       "        }#T_de129892_8331_11eb_ac49_40ec99120880row0_col10,#T_de129892_8331_11eb_ac49_40ec99120880row10_col6{\n",
       "            background-color:  #c4daee;\n",
       "            color:  #000000;\n",
       "        }#T_de129892_8331_11eb_ac49_40ec99120880row0_col11,#T_de129892_8331_11eb_ac49_40ec99120880row1_col2,#T_de129892_8331_11eb_ac49_40ec99120880row2_col4,#T_de129892_8331_11eb_ac49_40ec99120880row3_col8,#T_de129892_8331_11eb_ac49_40ec99120880row4_col3,#T_de129892_8331_11eb_ac49_40ec99120880row5_col5,#T_de129892_8331_11eb_ac49_40ec99120880row6_col9,#T_de129892_8331_11eb_ac49_40ec99120880row7_col10,#T_de129892_8331_11eb_ac49_40ec99120880row8_col7,#T_de129892_8331_11eb_ac49_40ec99120880row9_col1,#T_de129892_8331_11eb_ac49_40ec99120880row10_col0,#T_de129892_8331_11eb_ac49_40ec99120880row11_col6{\n",
       "            background-color:  #08306b;\n",
       "            color:  #f1f1f1;\n",
       "        }#T_de129892_8331_11eb_ac49_40ec99120880row1_col0,#T_de129892_8331_11eb_ac49_40ec99120880row3_col0,#T_de129892_8331_11eb_ac49_40ec99120880row4_col0,#T_de129892_8331_11eb_ac49_40ec99120880row6_col0,#T_de129892_8331_11eb_ac49_40ec99120880row7_col7,#T_de129892_8331_11eb_ac49_40ec99120880row9_col0{\n",
       "            background-color:  #f4f9fe;\n",
       "            color:  #000000;\n",
       "        }#T_de129892_8331_11eb_ac49_40ec99120880row1_col1,#T_de129892_8331_11eb_ac49_40ec99120880row6_col1{\n",
       "            background-color:  #f1f7fd;\n",
       "            color:  #000000;\n",
       "        }#T_de129892_8331_11eb_ac49_40ec99120880row1_col3{\n",
       "            background-color:  #b3d3e8;\n",
       "            color:  #000000;\n",
       "        }#T_de129892_8331_11eb_ac49_40ec99120880row1_col4,#T_de129892_8331_11eb_ac49_40ec99120880row3_col10{\n",
       "            background-color:  #bcd7eb;\n",
       "            color:  #000000;\n",
       "        }#T_de129892_8331_11eb_ac49_40ec99120880row1_col5,#T_de129892_8331_11eb_ac49_40ec99120880row5_col2{\n",
       "            background-color:  #1e6db2;\n",
       "            color:  #f1f1f1;\n",
       "        }#T_de129892_8331_11eb_ac49_40ec99120880row1_col6,#T_de129892_8331_11eb_ac49_40ec99120880row3_col7,#T_de129892_8331_11eb_ac49_40ec99120880row4_col7,#T_de129892_8331_11eb_ac49_40ec99120880row7_col1,#T_de129892_8331_11eb_ac49_40ec99120880row9_col7,#T_de129892_8331_11eb_ac49_40ec99120880row11_col0,#T_de129892_8331_11eb_ac49_40ec99120880row11_col2,#T_de129892_8331_11eb_ac49_40ec99120880row11_col3,#T_de129892_8331_11eb_ac49_40ec99120880row11_col4,#T_de129892_8331_11eb_ac49_40ec99120880row11_col5,#T_de129892_8331_11eb_ac49_40ec99120880row11_col7,#T_de129892_8331_11eb_ac49_40ec99120880row11_col8,#T_de129892_8331_11eb_ac49_40ec99120880row11_col9,#T_de129892_8331_11eb_ac49_40ec99120880row11_col10,#T_de129892_8331_11eb_ac49_40ec99120880row11_col11{\n",
       "            background-color:  #f7fbff;\n",
       "            color:  #000000;\n",
       "        }#T_de129892_8331_11eb_ac49_40ec99120880row1_col8,#T_de129892_8331_11eb_ac49_40ec99120880row8_col2{\n",
       "            background-color:  #bed8ec;\n",
       "            color:  #000000;\n",
       "        }#T_de129892_8331_11eb_ac49_40ec99120880row1_col9{\n",
       "            background-color:  #6fb0d7;\n",
       "            color:  #000000;\n",
       "        }#T_de129892_8331_11eb_ac49_40ec99120880row1_col10{\n",
       "            background-color:  #85bcdc;\n",
       "            color:  #000000;\n",
       "        }#T_de129892_8331_11eb_ac49_40ec99120880row2_col0,#T_de129892_8331_11eb_ac49_40ec99120880row5_col7,#T_de129892_8331_11eb_ac49_40ec99120880row8_col0{\n",
       "            background-color:  #f5f9fe;\n",
       "            color:  #000000;\n",
       "        }#T_de129892_8331_11eb_ac49_40ec99120880row2_col1,#T_de129892_8331_11eb_ac49_40ec99120880row5_col4{\n",
       "            background-color:  #dce9f6;\n",
       "            color:  #000000;\n",
       "        }#T_de129892_8331_11eb_ac49_40ec99120880row2_col2,#T_de129892_8331_11eb_ac49_40ec99120880row7_col2{\n",
       "            background-color:  #7cb7da;\n",
       "            color:  #000000;\n",
       "        }#T_de129892_8331_11eb_ac49_40ec99120880row2_col3{\n",
       "            background-color:  #d9e8f5;\n",
       "            color:  #000000;\n",
       "        }#T_de129892_8331_11eb_ac49_40ec99120880row2_col5{\n",
       "            background-color:  #a8cee4;\n",
       "            color:  #000000;\n",
       "        }#T_de129892_8331_11eb_ac49_40ec99120880row2_col6,#T_de129892_8331_11eb_ac49_40ec99120880row9_col2,#T_de129892_8331_11eb_ac49_40ec99120880row10_col10{\n",
       "            background-color:  #c7dcef;\n",
       "            color:  #000000;\n",
       "        }#T_de129892_8331_11eb_ac49_40ec99120880row2_col7{\n",
       "            background-color:  #f5fafe;\n",
       "            color:  #000000;\n",
       "        }#T_de129892_8331_11eb_ac49_40ec99120880row2_col8{\n",
       "            background-color:  #d0e1f2;\n",
       "            color:  #000000;\n",
       "        }#T_de129892_8331_11eb_ac49_40ec99120880row2_col9,#T_de129892_8331_11eb_ac49_40ec99120880row8_col5{\n",
       "            background-color:  #c2d9ee;\n",
       "            color:  #000000;\n",
       "        }#T_de129892_8331_11eb_ac49_40ec99120880row2_col10,#T_de129892_8331_11eb_ac49_40ec99120880row10_col5{\n",
       "            background-color:  #bfd8ed;\n",
       "            color:  #000000;\n",
       "        }#T_de129892_8331_11eb_ac49_40ec99120880row2_col11{\n",
       "            background-color:  #d7e6f5;\n",
       "            color:  #000000;\n",
       "        }#T_de129892_8331_11eb_ac49_40ec99120880row3_col1,#T_de129892_8331_11eb_ac49_40ec99120880row9_col4,#T_de129892_8331_11eb_ac49_40ec99120880row11_col1{\n",
       "            background-color:  #e1edf8;\n",
       "            color:  #000000;\n",
       "        }#T_de129892_8331_11eb_ac49_40ec99120880row3_col2{\n",
       "            background-color:  #84bcdb;\n",
       "            color:  #000000;\n",
       "        }#T_de129892_8331_11eb_ac49_40ec99120880row3_col3,#T_de129892_8331_11eb_ac49_40ec99120880row6_col8{\n",
       "            background-color:  #cddff1;\n",
       "            color:  #000000;\n",
       "        }#T_de129892_8331_11eb_ac49_40ec99120880row3_col4,#T_de129892_8331_11eb_ac49_40ec99120880row9_col10{\n",
       "            background-color:  #d3e3f3;\n",
       "            color:  #000000;\n",
       "        }#T_de129892_8331_11eb_ac49_40ec99120880row3_col5{\n",
       "            background-color:  #9dcae1;\n",
       "            color:  #000000;\n",
       "        }#T_de129892_8331_11eb_ac49_40ec99120880row3_col6,#T_de129892_8331_11eb_ac49_40ec99120880row4_col6{\n",
       "            background-color:  #cadef0;\n",
       "            color:  #000000;\n",
       "        }#T_de129892_8331_11eb_ac49_40ec99120880row3_col9{\n",
       "            background-color:  #a0cbe2;\n",
       "            color:  #000000;\n",
       "        }#T_de129892_8331_11eb_ac49_40ec99120880row4_col1{\n",
       "            background-color:  #e7f1fa;\n",
       "            color:  #000000;\n",
       "        }#T_de129892_8331_11eb_ac49_40ec99120880row4_col2{\n",
       "            background-color:  #79b5d9;\n",
       "            color:  #000000;\n",
       "        }#T_de129892_8331_11eb_ac49_40ec99120880row4_col4{\n",
       "            background-color:  #ddeaf7;\n",
       "            color:  #000000;\n",
       "        }#T_de129892_8331_11eb_ac49_40ec99120880row4_col5{\n",
       "            background-color:  #9cc9e1;\n",
       "            color:  #000000;\n",
       "        }#T_de129892_8331_11eb_ac49_40ec99120880row4_col8,#T_de129892_8331_11eb_ac49_40ec99120880row9_col9{\n",
       "            background-color:  #cde0f1;\n",
       "            color:  #000000;\n",
       "        }#T_de129892_8331_11eb_ac49_40ec99120880row4_col9{\n",
       "            background-color:  #a3cce3;\n",
       "            color:  #000000;\n",
       "        }#T_de129892_8331_11eb_ac49_40ec99120880row4_col10{\n",
       "            background-color:  #b0d2e7;\n",
       "            color:  #000000;\n",
       "        }#T_de129892_8331_11eb_ac49_40ec99120880row4_col11,#T_de129892_8331_11eb_ac49_40ec99120880row7_col3{\n",
       "            background-color:  #d9e7f5;\n",
       "            color:  #000000;\n",
       "        }#T_de129892_8331_11eb_ac49_40ec99120880row5_col0,#T_de129892_8331_11eb_ac49_40ec99120880row5_col1,#T_de129892_8331_11eb_ac49_40ec99120880row7_col0,#T_de129892_8331_11eb_ac49_40ec99120880row8_col4{\n",
       "            background-color:  #f2f7fd;\n",
       "            color:  #000000;\n",
       "        }#T_de129892_8331_11eb_ac49_40ec99120880row5_col3{\n",
       "            background-color:  #cfe1f2;\n",
       "            color:  #000000;\n",
       "        }#T_de129892_8331_11eb_ac49_40ec99120880row5_col6,#T_de129892_8331_11eb_ac49_40ec99120880row6_col7,#T_de129892_8331_11eb_ac49_40ec99120880row10_col7{\n",
       "            background-color:  #f6faff;\n",
       "            color:  #000000;\n",
       "        }#T_de129892_8331_11eb_ac49_40ec99120880row5_col8{\n",
       "            background-color:  #d0e2f2;\n",
       "            color:  #000000;\n",
       "        }#T_de129892_8331_11eb_ac49_40ec99120880row5_col9{\n",
       "            background-color:  #6dafd7;\n",
       "            color:  #000000;\n",
       "        }#T_de129892_8331_11eb_ac49_40ec99120880row5_col10{\n",
       "            background-color:  #87bddc;\n",
       "            color:  #000000;\n",
       "        }#T_de129892_8331_11eb_ac49_40ec99120880row5_col11{\n",
       "            background-color:  #dceaf6;\n",
       "            color:  #000000;\n",
       "        }#T_de129892_8331_11eb_ac49_40ec99120880row6_col2{\n",
       "            background-color:  #68acd5;\n",
       "            color:  #000000;\n",
       "        }#T_de129892_8331_11eb_ac49_40ec99120880row6_col3{\n",
       "            background-color:  #cee0f2;\n",
       "            color:  #000000;\n",
       "        }#T_de129892_8331_11eb_ac49_40ec99120880row6_col5{\n",
       "            background-color:  #66abd4;\n",
       "            color:  #000000;\n",
       "        }#T_de129892_8331_11eb_ac49_40ec99120880row6_col6,#T_de129892_8331_11eb_ac49_40ec99120880row7_col6,#T_de129892_8331_11eb_ac49_40ec99120880row8_col3,#T_de129892_8331_11eb_ac49_40ec99120880row9_col11{\n",
       "            background-color:  #eff6fc;\n",
       "            color:  #000000;\n",
       "        }#T_de129892_8331_11eb_ac49_40ec99120880row6_col10,#T_de129892_8331_11eb_ac49_40ec99120880row7_col9{\n",
       "            background-color:  #92c4de;\n",
       "            color:  #000000;\n",
       "        }#T_de129892_8331_11eb_ac49_40ec99120880row6_col11{\n",
       "            background-color:  #e9f2fa;\n",
       "            color:  #000000;\n",
       "        }#T_de129892_8331_11eb_ac49_40ec99120880row7_col4{\n",
       "            background-color:  #e8f1fa;\n",
       "            color:  #000000;\n",
       "        }#T_de129892_8331_11eb_ac49_40ec99120880row7_col5{\n",
       "            background-color:  #7fb9da;\n",
       "            color:  #000000;\n",
       "        }#T_de129892_8331_11eb_ac49_40ec99120880row7_col8{\n",
       "            background-color:  #e2edf8;\n",
       "            color:  #000000;\n",
       "        }#T_de129892_8331_11eb_ac49_40ec99120880row7_col11{\n",
       "            background-color:  #ecf4fb;\n",
       "            color:  #000000;\n",
       "        }#T_de129892_8331_11eb_ac49_40ec99120880row8_col1,#T_de129892_8331_11eb_ac49_40ec99120880row10_col3{\n",
       "            background-color:  #edf4fc;\n",
       "            color:  #000000;\n",
       "        }#T_de129892_8331_11eb_ac49_40ec99120880row8_col6{\n",
       "            background-color:  #c3daee;\n",
       "            color:  #000000;\n",
       "        }#T_de129892_8331_11eb_ac49_40ec99120880row8_col8,#T_de129892_8331_11eb_ac49_40ec99120880row8_col11,#T_de129892_8331_11eb_ac49_40ec99120880row10_col8{\n",
       "            background-color:  #eef5fc;\n",
       "            color:  #000000;\n",
       "        }#T_de129892_8331_11eb_ac49_40ec99120880row8_col9{\n",
       "            background-color:  #caddf0;\n",
       "            color:  #000000;\n",
       "        }#T_de129892_8331_11eb_ac49_40ec99120880row9_col5,#T_de129892_8331_11eb_ac49_40ec99120880row10_col9{\n",
       "            background-color:  #c9ddf0;\n",
       "            color:  #000000;\n",
       "        }#T_de129892_8331_11eb_ac49_40ec99120880row9_col6{\n",
       "            background-color:  #b4d3e9;\n",
       "            color:  #000000;\n",
       "        }#T_de129892_8331_11eb_ac49_40ec99120880row9_col8{\n",
       "            background-color:  #e3eef9;\n",
       "            color:  #000000;\n",
       "        }#T_de129892_8331_11eb_ac49_40ec99120880row10_col1{\n",
       "            background-color:  #ebf3fb;\n",
       "            color:  #000000;\n",
       "        }#T_de129892_8331_11eb_ac49_40ec99120880row10_col4{\n",
       "            background-color:  #f2f8fd;\n",
       "            color:  #000000;\n",
       "        }#T_de129892_8331_11eb_ac49_40ec99120880row10_col11{\n",
       "            background-color:  #f0f6fd;\n",
       "            color:  #000000;\n",
       "        }</style><table id=\"T_de129892_8331_11eb_ac49_40ec99120880\" ><thead>    <tr>        <th class=\"blank level0\" ></th>        <th class=\"col_heading level0 col0\" >id</th>        <th class=\"col_heading level0 col1\" >gender</th>        <th class=\"col_heading level0 col2\" >age</th>        <th class=\"col_heading level0 col3\" >hypertension</th>        <th class=\"col_heading level0 col4\" >heart_disease</th>        <th class=\"col_heading level0 col5\" >ever_married</th>        <th class=\"col_heading level0 col6\" >work_type</th>        <th class=\"col_heading level0 col7\" >Residence_type</th>        <th class=\"col_heading level0 col8\" >avg_glucose_level</th>        <th class=\"col_heading level0 col9\" >bmi</th>        <th class=\"col_heading level0 col10\" >smoking_status</th>        <th class=\"col_heading level0 col11\" >stroke</th>    </tr></thead><tbody>\n",
       "                <tr>\n",
       "                        <th id=\"T_de129892_8331_11eb_ac49_40ec99120880level0_row0\" class=\"row_heading level0 row0\" >stroke</th>\n",
       "                        <td id=\"T_de129892_8331_11eb_ac49_40ec99120880row0_col0\" class=\"data row0 col0\" >0.006388</td>\n",
       "                        <td id=\"T_de129892_8331_11eb_ac49_40ec99120880row0_col1\" class=\"data row0 col1\" >0.008929</td>\n",
       "                        <td id=\"T_de129892_8331_11eb_ac49_40ec99120880row0_col2\" class=\"data row0 col2\" >0.245257</td>\n",
       "                        <td id=\"T_de129892_8331_11eb_ac49_40ec99120880row0_col3\" class=\"data row0 col3\" >0.127904</td>\n",
       "                        <td id=\"T_de129892_8331_11eb_ac49_40ec99120880row0_col4\" class=\"data row0 col4\" >0.134914</td>\n",
       "                        <td id=\"T_de129892_8331_11eb_ac49_40ec99120880row0_col5\" class=\"data row0 col5\" >0.108340</td>\n",
       "                        <td id=\"T_de129892_8331_11eb_ac49_40ec99120880row0_col6\" class=\"data row0 col6\" >-0.032316</td>\n",
       "                        <td id=\"T_de129892_8331_11eb_ac49_40ec99120880row0_col7\" class=\"data row0 col7\" >0.015458</td>\n",
       "                        <td id=\"T_de129892_8331_11eb_ac49_40ec99120880row0_col8\" class=\"data row0 col8\" >0.131945</td>\n",
       "                        <td id=\"T_de129892_8331_11eb_ac49_40ec99120880row0_col9\" class=\"data row0 col9\" >0.042374</td>\n",
       "                        <td id=\"T_de129892_8331_11eb_ac49_40ec99120880row0_col10\" class=\"data row0 col10\" >0.028123</td>\n",
       "                        <td id=\"T_de129892_8331_11eb_ac49_40ec99120880row0_col11\" class=\"data row0 col11\" >1.000000</td>\n",
       "            </tr>\n",
       "            <tr>\n",
       "                        <th id=\"T_de129892_8331_11eb_ac49_40ec99120880level0_row1\" class=\"row_heading level0 row1\" >age</th>\n",
       "                        <td id=\"T_de129892_8331_11eb_ac49_40ec99120880row1_col0\" class=\"data row1 col0\" >0.003538</td>\n",
       "                        <td id=\"T_de129892_8331_11eb_ac49_40ec99120880row1_col1\" class=\"data row1 col1\" >-0.028202</td>\n",
       "                        <td id=\"T_de129892_8331_11eb_ac49_40ec99120880row1_col2\" class=\"data row1 col2\" >1.000000</td>\n",
       "                        <td id=\"T_de129892_8331_11eb_ac49_40ec99120880row1_col3\" class=\"data row1 col3\" >0.276398</td>\n",
       "                        <td id=\"T_de129892_8331_11eb_ac49_40ec99120880row1_col4\" class=\"data row1 col4\" >0.263796</td>\n",
       "                        <td id=\"T_de129892_8331_11eb_ac49_40ec99120880row1_col5\" class=\"data row1 col5\" >0.679125</td>\n",
       "                        <td id=\"T_de129892_8331_11eb_ac49_40ec99120880row1_col6\" class=\"data row1 col6\" >-0.361642</td>\n",
       "                        <td id=\"T_de129892_8331_11eb_ac49_40ec99120880row1_col7\" class=\"data row1 col7\" >0.014180</td>\n",
       "                        <td id=\"T_de129892_8331_11eb_ac49_40ec99120880row1_col8\" class=\"data row1 col8\" >0.238171</td>\n",
       "                        <td id=\"T_de129892_8331_11eb_ac49_40ec99120880row1_col9\" class=\"data row1 col9\" >0.333398</td>\n",
       "                        <td id=\"T_de129892_8331_11eb_ac49_40ec99120880row1_col10\" class=\"data row1 col10\" >0.265199</td>\n",
       "                        <td id=\"T_de129892_8331_11eb_ac49_40ec99120880row1_col11\" class=\"data row1 col11\" >0.245257</td>\n",
       "            </tr>\n",
       "            <tr>\n",
       "                        <th id=\"T_de129892_8331_11eb_ac49_40ec99120880level0_row2\" class=\"row_heading level0 row2\" >heart_disease</th>\n",
       "                        <td id=\"T_de129892_8331_11eb_ac49_40ec99120880row2_col0\" class=\"data row2 col0\" >-0.001296</td>\n",
       "                        <td id=\"T_de129892_8331_11eb_ac49_40ec99120880row2_col1\" class=\"data row2 col1\" >0.085447</td>\n",
       "                        <td id=\"T_de129892_8331_11eb_ac49_40ec99120880row2_col2\" class=\"data row2 col2\" >0.263796</td>\n",
       "                        <td id=\"T_de129892_8331_11eb_ac49_40ec99120880row2_col3\" class=\"data row2 col3\" >0.108306</td>\n",
       "                        <td id=\"T_de129892_8331_11eb_ac49_40ec99120880row2_col4\" class=\"data row2 col4\" >1.000000</td>\n",
       "                        <td id=\"T_de129892_8331_11eb_ac49_40ec99120880row2_col5\" class=\"data row2 col5\" >0.114644</td>\n",
       "                        <td id=\"T_de129892_8331_11eb_ac49_40ec99120880row2_col6\" class=\"data row2 col6\" >-0.028023</td>\n",
       "                        <td id=\"T_de129892_8331_11eb_ac49_40ec99120880row2_col7\" class=\"data row2 col7\" >0.003092</td>\n",
       "                        <td id=\"T_de129892_8331_11eb_ac49_40ec99120880row2_col8\" class=\"data row2 col8\" >0.161857</td>\n",
       "                        <td id=\"T_de129892_8331_11eb_ac49_40ec99120880row2_col9\" class=\"data row2 col9\" >0.041357</td>\n",
       "                        <td id=\"T_de129892_8331_11eb_ac49_40ec99120880row2_col10\" class=\"data row2 col10\" >0.048460</td>\n",
       "                        <td id=\"T_de129892_8331_11eb_ac49_40ec99120880row2_col11\" class=\"data row2 col11\" >0.134914</td>\n",
       "            </tr>\n",
       "            <tr>\n",
       "                        <th id=\"T_de129892_8331_11eb_ac49_40ec99120880level0_row3\" class=\"row_heading level0 row3\" >avg_glucose_level</th>\n",
       "                        <td id=\"T_de129892_8331_11eb_ac49_40ec99120880row3_col0\" class=\"data row3 col0\" >0.001092</td>\n",
       "                        <td id=\"T_de129892_8331_11eb_ac49_40ec99120880row3_col1\" class=\"data row3 col1\" >0.055180</td>\n",
       "                        <td id=\"T_de129892_8331_11eb_ac49_40ec99120880row3_col2\" class=\"data row3 col2\" >0.238171</td>\n",
       "                        <td id=\"T_de129892_8331_11eb_ac49_40ec99120880row3_col3\" class=\"data row3 col3\" >0.174474</td>\n",
       "                        <td id=\"T_de129892_8331_11eb_ac49_40ec99120880row3_col4\" class=\"data row3 col4\" >0.161857</td>\n",
       "                        <td id=\"T_de129892_8331_11eb_ac49_40ec99120880row3_col5\" class=\"data row3 col5\" >0.155068</td>\n",
       "                        <td id=\"T_de129892_8331_11eb_ac49_40ec99120880row3_col6\" class=\"data row3 col6\" >-0.050513</td>\n",
       "                        <td id=\"T_de129892_8331_11eb_ac49_40ec99120880row3_col7\" class=\"data row3 col7\" >-0.004946</td>\n",
       "                        <td id=\"T_de129892_8331_11eb_ac49_40ec99120880row3_col8\" class=\"data row3 col8\" >1.000000</td>\n",
       "                        <td id=\"T_de129892_8331_11eb_ac49_40ec99120880row3_col9\" class=\"data row3 col9\" >0.175502</td>\n",
       "                        <td id=\"T_de129892_8331_11eb_ac49_40ec99120880row3_col10\" class=\"data row3 col10\" >0.063437</td>\n",
       "                        <td id=\"T_de129892_8331_11eb_ac49_40ec99120880row3_col11\" class=\"data row3 col11\" >0.131945</td>\n",
       "            </tr>\n",
       "            <tr>\n",
       "                        <th id=\"T_de129892_8331_11eb_ac49_40ec99120880level0_row4\" class=\"row_heading level0 row4\" >hypertension</th>\n",
       "                        <td id=\"T_de129892_8331_11eb_ac49_40ec99120880row4_col0\" class=\"data row4 col0\" >0.003550</td>\n",
       "                        <td id=\"T_de129892_8331_11eb_ac49_40ec99120880row4_col1\" class=\"data row4 col1\" >0.020994</td>\n",
       "                        <td id=\"T_de129892_8331_11eb_ac49_40ec99120880row4_col2\" class=\"data row4 col2\" >0.276398</td>\n",
       "                        <td id=\"T_de129892_8331_11eb_ac49_40ec99120880row4_col3\" class=\"data row4 col3\" >1.000000</td>\n",
       "                        <td id=\"T_de129892_8331_11eb_ac49_40ec99120880row4_col4\" class=\"data row4 col4\" >0.108306</td>\n",
       "                        <td id=\"T_de129892_8331_11eb_ac49_40ec99120880row4_col5\" class=\"data row4 col5\" >0.164243</td>\n",
       "                        <td id=\"T_de129892_8331_11eb_ac49_40ec99120880row4_col6\" class=\"data row4 col6\" >-0.051761</td>\n",
       "                        <td id=\"T_de129892_8331_11eb_ac49_40ec99120880row4_col7\" class=\"data row4 col7\" >-0.007913</td>\n",
       "                        <td id=\"T_de129892_8331_11eb_ac49_40ec99120880row4_col8\" class=\"data row4 col8\" >0.174474</td>\n",
       "                        <td id=\"T_de129892_8331_11eb_ac49_40ec99120880row4_col9\" class=\"data row4 col9\" >0.167811</td>\n",
       "                        <td id=\"T_de129892_8331_11eb_ac49_40ec99120880row4_col10\" class=\"data row4 col10\" >0.111038</td>\n",
       "                        <td id=\"T_de129892_8331_11eb_ac49_40ec99120880row4_col11\" class=\"data row4 col11\" >0.127904</td>\n",
       "            </tr>\n",
       "            <tr>\n",
       "                        <th id=\"T_de129892_8331_11eb_ac49_40ec99120880level0_row5\" class=\"row_heading level0 row5\" >ever_married</th>\n",
       "                        <td id=\"T_de129892_8331_11eb_ac49_40ec99120880row5_col0\" class=\"data row5 col0\" >0.013690</td>\n",
       "                        <td id=\"T_de129892_8331_11eb_ac49_40ec99120880row5_col1\" class=\"data row5 col1\" >-0.031005</td>\n",
       "                        <td id=\"T_de129892_8331_11eb_ac49_40ec99120880row5_col2\" class=\"data row5 col2\" >0.679125</td>\n",
       "                        <td id=\"T_de129892_8331_11eb_ac49_40ec99120880row5_col3\" class=\"data row5 col3\" >0.164243</td>\n",
       "                        <td id=\"T_de129892_8331_11eb_ac49_40ec99120880row5_col4\" class=\"data row5 col4\" >0.114644</td>\n",
       "                        <td id=\"T_de129892_8331_11eb_ac49_40ec99120880row5_col5\" class=\"data row5 col5\" >1.000000</td>\n",
       "                        <td id=\"T_de129892_8331_11eb_ac49_40ec99120880row5_col6\" class=\"data row5 col6\" >-0.352722</td>\n",
       "                        <td id=\"T_de129892_8331_11eb_ac49_40ec99120880row5_col7\" class=\"data row5 col7\" >0.006261</td>\n",
       "                        <td id=\"T_de129892_8331_11eb_ac49_40ec99120880row5_col8\" class=\"data row5 col8\" >0.155068</td>\n",
       "                        <td id=\"T_de129892_8331_11eb_ac49_40ec99120880row5_col9\" class=\"data row5 col9\" >0.341695</td>\n",
       "                        <td id=\"T_de129892_8331_11eb_ac49_40ec99120880row5_col10\" class=\"data row5 col10\" >0.259647</td>\n",
       "                        <td id=\"T_de129892_8331_11eb_ac49_40ec99120880row5_col11\" class=\"data row5 col11\" >0.108340</td>\n",
       "            </tr>\n",
       "            <tr>\n",
       "                        <th id=\"T_de129892_8331_11eb_ac49_40ec99120880level0_row6\" class=\"row_heading level0 row6\" >bmi</th>\n",
       "                        <td id=\"T_de129892_8331_11eb_ac49_40ec99120880row6_col0\" class=\"data row6 col0\" >0.003084</td>\n",
       "                        <td id=\"T_de129892_8331_11eb_ac49_40ec99120880row6_col1\" class=\"data row6 col1\" >-0.026678</td>\n",
       "                        <td id=\"T_de129892_8331_11eb_ac49_40ec99120880row6_col2\" class=\"data row6 col2\" >0.333398</td>\n",
       "                        <td id=\"T_de129892_8331_11eb_ac49_40ec99120880row6_col3\" class=\"data row6 col3\" >0.167811</td>\n",
       "                        <td id=\"T_de129892_8331_11eb_ac49_40ec99120880row6_col4\" class=\"data row6 col4\" >0.041357</td>\n",
       "                        <td id=\"T_de129892_8331_11eb_ac49_40ec99120880row6_col5\" class=\"data row6 col5\" >0.341695</td>\n",
       "                        <td id=\"T_de129892_8331_11eb_ac49_40ec99120880row6_col6\" class=\"data row6 col6\" >-0.304876</td>\n",
       "                        <td id=\"T_de129892_8331_11eb_ac49_40ec99120880row6_col7\" class=\"data row6 col7\" >-0.000122</td>\n",
       "                        <td id=\"T_de129892_8331_11eb_ac49_40ec99120880row6_col8\" class=\"data row6 col8\" >0.175502</td>\n",
       "                        <td id=\"T_de129892_8331_11eb_ac49_40ec99120880row6_col9\" class=\"data row6 col9\" >1.000000</td>\n",
       "                        <td id=\"T_de129892_8331_11eb_ac49_40ec99120880row6_col10\" class=\"data row6 col10\" >0.224473</td>\n",
       "                        <td id=\"T_de129892_8331_11eb_ac49_40ec99120880row6_col11\" class=\"data row6 col11\" >0.042374</td>\n",
       "            </tr>\n",
       "            <tr>\n",
       "                        <th id=\"T_de129892_8331_11eb_ac49_40ec99120880level0_row7\" class=\"row_heading level0 row7\" >smoking_status</th>\n",
       "                        <td id=\"T_de129892_8331_11eb_ac49_40ec99120880row7_col0\" class=\"data row7 col0\" >0.014074</td>\n",
       "                        <td id=\"T_de129892_8331_11eb_ac49_40ec99120880row7_col1\" class=\"data row7 col1\" >-0.062581</td>\n",
       "                        <td id=\"T_de129892_8331_11eb_ac49_40ec99120880row7_col2\" class=\"data row7 col2\" >0.265199</td>\n",
       "                        <td id=\"T_de129892_8331_11eb_ac49_40ec99120880row7_col3\" class=\"data row7 col3\" >0.111038</td>\n",
       "                        <td id=\"T_de129892_8331_11eb_ac49_40ec99120880row7_col4\" class=\"data row7 col4\" >0.048460</td>\n",
       "                        <td id=\"T_de129892_8331_11eb_ac49_40ec99120880row7_col5\" class=\"data row7 col5\" >0.259647</td>\n",
       "                        <td id=\"T_de129892_8331_11eb_ac49_40ec99120880row7_col6\" class=\"data row7 col6\" >-0.305927</td>\n",
       "                        <td id=\"T_de129892_8331_11eb_ac49_40ec99120880row7_col7\" class=\"data row7 col7\" >0.008237</td>\n",
       "                        <td id=\"T_de129892_8331_11eb_ac49_40ec99120880row7_col8\" class=\"data row7 col8\" >0.063437</td>\n",
       "                        <td id=\"T_de129892_8331_11eb_ac49_40ec99120880row7_col9\" class=\"data row7 col9\" >0.224473</td>\n",
       "                        <td id=\"T_de129892_8331_11eb_ac49_40ec99120880row7_col10\" class=\"data row7 col10\" >1.000000</td>\n",
       "                        <td id=\"T_de129892_8331_11eb_ac49_40ec99120880row7_col11\" class=\"data row7 col11\" >0.028123</td>\n",
       "            </tr>\n",
       "            <tr>\n",
       "                        <th id=\"T_de129892_8331_11eb_ac49_40ec99120880level0_row8\" class=\"row_heading level0 row8\" >Residence_type</th>\n",
       "                        <td id=\"T_de129892_8331_11eb_ac49_40ec99120880row8_col0\" class=\"data row8 col0\" >-0.001403</td>\n",
       "                        <td id=\"T_de129892_8331_11eb_ac49_40ec99120880row8_col1\" class=\"data row8 col1\" >-0.006738</td>\n",
       "                        <td id=\"T_de129892_8331_11eb_ac49_40ec99120880row8_col2\" class=\"data row8 col2\" >0.014180</td>\n",
       "                        <td id=\"T_de129892_8331_11eb_ac49_40ec99120880row8_col3\" class=\"data row8 col3\" >-0.007913</td>\n",
       "                        <td id=\"T_de129892_8331_11eb_ac49_40ec99120880row8_col4\" class=\"data row8 col4\" >0.003092</td>\n",
       "                        <td id=\"T_de129892_8331_11eb_ac49_40ec99120880row8_col5\" class=\"data row8 col5\" >0.006261</td>\n",
       "                        <td id=\"T_de129892_8331_11eb_ac49_40ec99120880row8_col6\" class=\"data row8 col6\" >-0.007316</td>\n",
       "                        <td id=\"T_de129892_8331_11eb_ac49_40ec99120880row8_col7\" class=\"data row8 col7\" >1.000000</td>\n",
       "                        <td id=\"T_de129892_8331_11eb_ac49_40ec99120880row8_col8\" class=\"data row8 col8\" >-0.004946</td>\n",
       "                        <td id=\"T_de129892_8331_11eb_ac49_40ec99120880row8_col9\" class=\"data row8 col9\" >-0.000122</td>\n",
       "                        <td id=\"T_de129892_8331_11eb_ac49_40ec99120880row8_col10\" class=\"data row8 col10\" >0.008237</td>\n",
       "                        <td id=\"T_de129892_8331_11eb_ac49_40ec99120880row8_col11\" class=\"data row8 col11\" >0.015458</td>\n",
       "            </tr>\n",
       "            <tr>\n",
       "                        <th id=\"T_de129892_8331_11eb_ac49_40ec99120880level0_row9\" class=\"row_heading level0 row9\" >gender</th>\n",
       "                        <td id=\"T_de129892_8331_11eb_ac49_40ec99120880row9_col0\" class=\"data row9 col0\" >0.002511</td>\n",
       "                        <td id=\"T_de129892_8331_11eb_ac49_40ec99120880row9_col1\" class=\"data row9 col1\" >1.000000</td>\n",
       "                        <td id=\"T_de129892_8331_11eb_ac49_40ec99120880row9_col2\" class=\"data row9 col2\" >-0.028202</td>\n",
       "                        <td id=\"T_de129892_8331_11eb_ac49_40ec99120880row9_col3\" class=\"data row9 col3\" >0.020994</td>\n",
       "                        <td id=\"T_de129892_8331_11eb_ac49_40ec99120880row9_col4\" class=\"data row9 col4\" >0.085447</td>\n",
       "                        <td id=\"T_de129892_8331_11eb_ac49_40ec99120880row9_col5\" class=\"data row9 col5\" >-0.031005</td>\n",
       "                        <td id=\"T_de129892_8331_11eb_ac49_40ec99120880row9_col6\" class=\"data row9 col6\" >0.056422</td>\n",
       "                        <td id=\"T_de129892_8331_11eb_ac49_40ec99120880row9_col7\" class=\"data row9 col7\" >-0.006738</td>\n",
       "                        <td id=\"T_de129892_8331_11eb_ac49_40ec99120880row9_col8\" class=\"data row9 col8\" >0.055180</td>\n",
       "                        <td id=\"T_de129892_8331_11eb_ac49_40ec99120880row9_col9\" class=\"data row9 col9\" >-0.026678</td>\n",
       "                        <td id=\"T_de129892_8331_11eb_ac49_40ec99120880row9_col10\" class=\"data row9 col10\" >-0.062581</td>\n",
       "                        <td id=\"T_de129892_8331_11eb_ac49_40ec99120880row9_col11\" class=\"data row9 col11\" >0.008929</td>\n",
       "            </tr>\n",
       "            <tr>\n",
       "                        <th id=\"T_de129892_8331_11eb_ac49_40ec99120880level0_row10\" class=\"row_heading level0 row10\" >id</th>\n",
       "                        <td id=\"T_de129892_8331_11eb_ac49_40ec99120880row10_col0\" class=\"data row10 col0\" >1.000000</td>\n",
       "                        <td id=\"T_de129892_8331_11eb_ac49_40ec99120880row10_col1\" class=\"data row10 col1\" >0.002511</td>\n",
       "                        <td id=\"T_de129892_8331_11eb_ac49_40ec99120880row10_col2\" class=\"data row10 col2\" >0.003538</td>\n",
       "                        <td id=\"T_de129892_8331_11eb_ac49_40ec99120880row10_col3\" class=\"data row10 col3\" >0.003550</td>\n",
       "                        <td id=\"T_de129892_8331_11eb_ac49_40ec99120880row10_col4\" class=\"data row10 col4\" >-0.001296</td>\n",
       "                        <td id=\"T_de129892_8331_11eb_ac49_40ec99120880row10_col5\" class=\"data row10 col5\" >0.013690</td>\n",
       "                        <td id=\"T_de129892_8331_11eb_ac49_40ec99120880row10_col6\" class=\"data row10 col6\" >-0.015757</td>\n",
       "                        <td id=\"T_de129892_8331_11eb_ac49_40ec99120880row10_col7\" class=\"data row10 col7\" >-0.001403</td>\n",
       "                        <td id=\"T_de129892_8331_11eb_ac49_40ec99120880row10_col8\" class=\"data row10 col8\" >0.001092</td>\n",
       "                        <td id=\"T_de129892_8331_11eb_ac49_40ec99120880row10_col9\" class=\"data row10 col9\" >0.003084</td>\n",
       "                        <td id=\"T_de129892_8331_11eb_ac49_40ec99120880row10_col10\" class=\"data row10 col10\" >0.014074</td>\n",
       "                        <td id=\"T_de129892_8331_11eb_ac49_40ec99120880row10_col11\" class=\"data row10 col11\" >0.006388</td>\n",
       "            </tr>\n",
       "            <tr>\n",
       "                        <th id=\"T_de129892_8331_11eb_ac49_40ec99120880level0_row11\" class=\"row_heading level0 row11\" >work_type</th>\n",
       "                        <td id=\"T_de129892_8331_11eb_ac49_40ec99120880row11_col0\" class=\"data row11 col0\" >-0.015757</td>\n",
       "                        <td id=\"T_de129892_8331_11eb_ac49_40ec99120880row11_col1\" class=\"data row11 col1\" >0.056422</td>\n",
       "                        <td id=\"T_de129892_8331_11eb_ac49_40ec99120880row11_col2\" class=\"data row11 col2\" >-0.361642</td>\n",
       "                        <td id=\"T_de129892_8331_11eb_ac49_40ec99120880row11_col3\" class=\"data row11 col3\" >-0.051761</td>\n",
       "                        <td id=\"T_de129892_8331_11eb_ac49_40ec99120880row11_col4\" class=\"data row11 col4\" >-0.028023</td>\n",
       "                        <td id=\"T_de129892_8331_11eb_ac49_40ec99120880row11_col5\" class=\"data row11 col5\" >-0.352722</td>\n",
       "                        <td id=\"T_de129892_8331_11eb_ac49_40ec99120880row11_col6\" class=\"data row11 col6\" >1.000000</td>\n",
       "                        <td id=\"T_de129892_8331_11eb_ac49_40ec99120880row11_col7\" class=\"data row11 col7\" >-0.007316</td>\n",
       "                        <td id=\"T_de129892_8331_11eb_ac49_40ec99120880row11_col8\" class=\"data row11 col8\" >-0.050513</td>\n",
       "                        <td id=\"T_de129892_8331_11eb_ac49_40ec99120880row11_col9\" class=\"data row11 col9\" >-0.304876</td>\n",
       "                        <td id=\"T_de129892_8331_11eb_ac49_40ec99120880row11_col10\" class=\"data row11 col10\" >-0.305927</td>\n",
       "                        <td id=\"T_de129892_8331_11eb_ac49_40ec99120880row11_col11\" class=\"data row11 col11\" >-0.032316</td>\n",
       "            </tr>\n",
       "    </tbody></table>"
      ],
      "text/plain": [
       "<pandas.io.formats.style.Styler at 0x1dc5c0ab8c8>"
      ]
     },
     "execution_count": 17,
     "metadata": {},
     "output_type": "execute_result"
    }
   ],
   "source": [
    "# dentify all the features correlations\n",
    "x.sort_values(by='stroke',ascending = False).style.background_gradient(cmap = 'Blues')"
   ]
  },
  {
   "cell_type": "code",
   "execution_count": 14,
   "metadata": {
    "scrolled": true
   },
   "outputs": [
    {
     "name": "stderr",
     "output_type": "stream",
     "text": [
      "C:\\Users\\User\\anaconda3\\lib\\site-packages\\numpy\\core\\_asarray.py:83: VisibleDeprecationWarning: Creating an ndarray from ragged nested sequences (which is a list-or-tuple of lists-or-tuples-or ndarrays with different lengths or shapes) is deprecated. If you meant to do this, you must specify 'dtype=object' when creating the ndarray\n",
      "  return array(a, dtype, copy=False, order=order)\n",
      "C:\\Users\\User\\anaconda3\\lib\\site-packages\\numpy\\core\\_asarray.py:83: VisibleDeprecationWarning: Creating an ndarray from ragged nested sequences (which is a list-or-tuple of lists-or-tuples-or ndarrays with different lengths or shapes) is deprecated. If you meant to do this, you must specify 'dtype=object' when creating the ndarray\n",
      "  return array(a, dtype, copy=False, order=order)\n",
      "C:\\Users\\User\\anaconda3\\lib\\site-packages\\numpy\\core\\_asarray.py:83: VisibleDeprecationWarning: Creating an ndarray from ragged nested sequences (which is a list-or-tuple of lists-or-tuples-or ndarrays with different lengths or shapes) is deprecated. If you meant to do this, you must specify 'dtype=object' when creating the ndarray\n",
      "  return array(a, dtype, copy=False, order=order)\n",
      "C:\\Users\\User\\anaconda3\\lib\\site-packages\\numpy\\core\\_asarray.py:83: VisibleDeprecationWarning: Creating an ndarray from ragged nested sequences (which is a list-or-tuple of lists-or-tuples-or ndarrays with different lengths or shapes) is deprecated. If you meant to do this, you must specify 'dtype=object' when creating the ndarray\n",
      "  return array(a, dtype, copy=False, order=order)\n",
      "C:\\Users\\User\\anaconda3\\lib\\site-packages\\numpy\\core\\_asarray.py:83: VisibleDeprecationWarning: Creating an ndarray from ragged nested sequences (which is a list-or-tuple of lists-or-tuples-or ndarrays with different lengths or shapes) is deprecated. If you meant to do this, you must specify 'dtype=object' when creating the ndarray\n",
      "  return array(a, dtype, copy=False, order=order)\n",
      "C:\\Users\\User\\anaconda3\\lib\\site-packages\\numpy\\core\\_asarray.py:83: VisibleDeprecationWarning: Creating an ndarray from ragged nested sequences (which is a list-or-tuple of lists-or-tuples-or ndarrays with different lengths or shapes) is deprecated. If you meant to do this, you must specify 'dtype=object' when creating the ndarray\n",
      "  return array(a, dtype, copy=False, order=order)\n",
      "C:\\Users\\User\\anaconda3\\lib\\site-packages\\numpy\\core\\_asarray.py:83: VisibleDeprecationWarning: Creating an ndarray from ragged nested sequences (which is a list-or-tuple of lists-or-tuples-or ndarrays with different lengths or shapes) is deprecated. If you meant to do this, you must specify 'dtype=object' when creating the ndarray\n",
      "  return array(a, dtype, copy=False, order=order)\n",
      "C:\\Users\\User\\anaconda3\\lib\\site-packages\\numpy\\core\\_asarray.py:83: VisibleDeprecationWarning: Creating an ndarray from ragged nested sequences (which is a list-or-tuple of lists-or-tuples-or ndarrays with different lengths or shapes) is deprecated. If you meant to do this, you must specify 'dtype=object' when creating the ndarray\n",
      "  return array(a, dtype, copy=False, order=order)\n",
      "C:\\Users\\User\\anaconda3\\lib\\site-packages\\numpy\\core\\_asarray.py:83: VisibleDeprecationWarning: Creating an ndarray from ragged nested sequences (which is a list-or-tuple of lists-or-tuples-or ndarrays with different lengths or shapes) is deprecated. If you meant to do this, you must specify 'dtype=object' when creating the ndarray\n",
      "  return array(a, dtype, copy=False, order=order)\n",
      "C:\\Users\\User\\anaconda3\\lib\\site-packages\\numpy\\core\\_asarray.py:83: VisibleDeprecationWarning: Creating an ndarray from ragged nested sequences (which is a list-or-tuple of lists-or-tuples-or ndarrays with different lengths or shapes) is deprecated. If you meant to do this, you must specify 'dtype=object' when creating the ndarray\n",
      "  return array(a, dtype, copy=False, order=order)\n"
     ]
    },
    {
     "data": {
      "image/png": "[encoded data removed]",
      "text/plain": [
       "<Figure size 432x432 with 1 Axes>"
      ]
     },
     "metadata": {
      "needs_background": "light"
     },
     "output_type": "display_data"
    },
    {
     "data": {
      "image/png": "[encoded data removed]",
      "text/plain": [
       "<Figure size 432x432 with 1 Axes>"
      ]
     },
     "metadata": {
      "needs_background": "light"
     },
     "output_type": "display_data"
    },
    {
     "data": {
      "image/png": "[encoded data removed]",
      "text/plain": [
       "<Figure size 432x432 with 1 Axes>"
      ]
     },
     "metadata": {
      "needs_background": "light"
     },
     "output_type": "display_data"
    },
    {
     "data": {
      "image/png": "[encoded data removed]",
      "text/plain": [
       "<Figure size 432x432 with 1 Axes>"
      ]
     },
     "metadata": {
      "needs_background": "light"
     },
     "output_type": "display_data"
    },
    {
     "data": {
      "image/png": "[encoded data removed]",
      "text/plain": [
       "<Figure size 432x432 with 1 Axes>"
      ]
     },
     "metadata": {
      "needs_background": "light"
     },
     "output_type": "display_data"
    },
    {
     "data": {
      "image/png": "[encoded data removed]",
      "text/plain": [
       "<Figure size 432x432 with 1 Axes>"
      ]
     },
     "metadata": {
      "needs_background": "light"
     },
     "output_type": "display_data"
    },
    {
     "data": {
      "image/png": "[encoded data removed]",
      "text/plain": [
       "<Figure size 432x432 with 1 Axes>"
      ]
     },
     "metadata": {
      "needs_background": "light"
     },
     "output_type": "display_data"
    },
    {
     "data": {
      "image/png": "[encoded data removed]",
      "text/plain": [
       "<Figure size 432x432 with 1 Axes>"
      ]
     },
     "metadata": {
      "needs_background": "light"
     },
     "output_type": "display_data"
    },
    {
     "data": {
      "image/png": "[encoded data removed]",
      "text/plain": [
       "<Figure size 432x432 with 1 Axes>"
      ]
     },
     "metadata": {
      "needs_background": "light"
     },
     "output_type": "display_data"
    },
    {
     "data": {
      "image/png": "[encoded data removed]",
      "text/plain": [
       "<Figure size 432x432 with 1 Axes>"
      ]
     },
     "metadata": {
      "needs_background": "light"
     },
     "output_type": "display_data"
    }
   ],
   "source": [
    "# Define the features\n",
    "features = ['gender', 'age', 'hypertension', 'heart_disease', 'ever_married',\n",
    "       'work_type', 'Residence_type', 'avg_glucose_level', 'bmi',\n",
    "       'smoking_status']\n",
    "\n",
    "# For each feature create a boxplot against the label\n",
    "for col in features:\n",
    "    df_stroke.boxplot(column=col, by='stroke', figsize=(6,6))\n",
    "    plt.title(col)\n",
    "plt.show()"
   ]
  },
  {
   "cell_type": "markdown",
   "metadata": {},
   "source": [
    "## 12. Identify if there is null data"
   ]
  },
  {
   "cell_type": "code",
   "execution_count": 18,
   "metadata": {},
   "outputs": [
    {
     "data": {
      "text/plain": [
       "id                     0\n",
       "gender                 0\n",
       "age                    0\n",
       "hypertension           0\n",
       "heart_disease          0\n",
       "ever_married           0\n",
       "work_type              0\n",
       "Residence_type         0\n",
       "avg_glucose_level      0\n",
       "bmi                  201\n",
       "smoking_status         0\n",
       "stroke                 0\n",
       "dtype: int64"
      ]
     },
     "execution_count": 18,
     "metadata": {},
     "output_type": "execute_result"
    }
   ],
   "source": [
    "# Identify Features with Null Values\n",
    "df_stroke.isnull().sum()"
   ]
  },
  {
   "cell_type": "markdown",
   "metadata": {},
   "source": [
    "## 13. Remove rows with missing values"
   ]
  },
  {
   "cell_type": "code",
   "execution_count": 20,
   "metadata": {
    "scrolled": true
   },
   "outputs": [
    {
     "data": {
      "text/plain": [
       "id                   0\n",
       "gender               0\n",
       "age                  0\n",
       "hypertension         0\n",
       "heart_disease        0\n",
       "ever_married         0\n",
       "work_type            0\n",
       "Residence_type       0\n",
       "avg_glucose_level    0\n",
       "bmi                  0\n",
       "smoking_status       0\n",
       "stroke               0\n",
       "dtype: int64"
      ]
     },
     "execution_count": 20,
     "metadata": {},
     "output_type": "execute_result"
    }
   ],
   "source": [
    "# Drop Rows with Null Values\n",
    "df_stroke = df_stroke.dropna(axis=0, how='any')\n",
    "df_stroke.isnull().sum()"
   ]
  },
  {
   "cell_type": "markdown",
   "metadata": {},
   "source": [
    "## 14. Exploring stroke patient vs non-stroke patient population"
   ]
  },
  {
   "cell_type": "code",
   "execution_count": 26,
   "metadata": {},
   "outputs": [
    {
     "data": {
      "image/png": "[encoded data removed]",
      "text/plain": [
       "<Figure size 1440x360 with 2 Axes>"
      ]
     },
     "metadata": {
      "needs_background": "light"
     },
     "output_type": "display_data"
    }
   ],
   "source": [
    "fig, (ax3,ax4) = plt.subplots(1,2, figsize = (20,5))\n",
    "plt.subplots_adjust(hspace = 0.5)\n",
    "bin_x = range(25,80,2)\n",
    "\n",
    "# Create plot of the age distribution of stroke sufferers\n",
    "ax3.hist(df_stroke[df_stroke['stroke']==1].age.tolist(),bins=bin_x,rwidth=0.8)\n",
    "ax3.set_xticks(range(25,80,2))\n",
    "ax3.set_xlabel('Age Range',fontsize=15)\n",
    "ax3.set_ylabel('Population Count',fontsize=15)\n",
    "ax3.set_title('People who suffered from a stroke',fontsize=20)\n",
    "\n",
    "# Create plot of the age distribution of individuals who did not suffer a stroke\n",
    "ax4.hist(df_stroke[df_stroke['stroke']==0].age.tolist(),bins=bin_x,rwidth=0.8)\n",
    "ax4.set_xticks(range(25,80,2))\n",
    "ax4.set_xlabel('Age Range',fontsize=15)\n",
    "ax4.set_ylabel('Population Count',fontsize=15)\n",
    "ax4.set_title('People who did not suffered from a stroke',fontsize=20)\n",
    "\n",
    "plt.show()"
   ]
  },
  {
   "cell_type": "code",
   "execution_count": 27,
   "metadata": {},
   "outputs": [
    {
     "data": {
      "image/png": "[encoded data removed]",
      "text/plain": [
       "<Figure size 864x360 with 2 Axes>"
      ]
     },
     "metadata": {
      "needs_background": "light"
     },
     "output_type": "display_data"
    }
   ],
   "source": [
    "fig, (ax6,ax7) = plt.subplots(1,2,figsize = (12,5),constrained_layout=False)\n",
    "plt.subplots_adjust(wspace = 0.5)\n",
    "\n",
    "# Create a plot of stroke vs non stroke individuals \n",
    "ax6.bar(df_stroke.stroke.unique(),df_stroke.stroke.value_counts(),color = ['blue','red'],width = 0.8)\n",
    "ax6.set_xticks(df_stroke.stroke.unique())\n",
    "ax6.set_xticklabels(('Non-Stroke','Stroke'))\n",
    "\n",
    "# Create a plot of stroke vs non stroke individuals in log scale\n",
    "ax7.bar(df_stroke.stroke.unique(),df_stroke.stroke.value_counts(),color = ['blue','red'],width = 0.8)\n",
    "ax7.set_xticks(df_stroke.stroke.unique())\n",
    "ax7.set_xticklabels(('Non-Stroke','Stroke'))\n",
    "ax7.set_yscale('log')\n",
    "\n",
    "# Display both plots\n",
    "plt.show()"
   ]
  },
  {
   "cell_type": "code",
   "execution_count": 28,
   "metadata": {},
   "outputs": [
    {
     "data": {
      "text/plain": [
       "0    4700\n",
       "1     209\n",
       "Name: stroke, dtype: int64"
      ]
     },
     "execution_count": 28,
     "metadata": {},
     "output_type": "execute_result"
    }
   ],
   "source": [
    "# Identify the number of records for individuals who had a stroke and who had not\n",
    "df_stroke.stroke.value_counts()"
   ]
  },
  {
   "cell_type": "markdown",
   "metadata": {},
   "source": [
    "## 15. Explore gender within the sample population"
   ]
  },
  {
   "cell_type": "code",
   "execution_count": 29,
   "metadata": {},
   "outputs": [
    {
     "name": "stdout",
     "output_type": "stream",
     "text": [
      "Female : 2897\n",
      "Male : 2011\n",
      "Other : 1\n"
     ]
    }
   ],
   "source": [
    "# Identify the number of females\n",
    "female_count = df_stroke.gender.value_counts().tolist()[0]\n",
    "print('Female :',female_count)\n",
    "\n",
    "# Identify the number of males\n",
    "male_count = df_stroke.gender.value_counts().tolist()[1]\n",
    "print('Male :',male_count)\n",
    "\n",
    "# Identify the number of \"others\"\n",
    "other_count = df_stroke.gender.value_counts().tolist()[2]\n",
    "print('Other :',other_count)"
   ]
  },
  {
   "cell_type": "code",
   "execution_count": 30,
   "metadata": {},
   "outputs": [
    {
     "data": {
      "image/png": "[encoded data removed]",
      "text/plain": [
       "<Figure size 864x360 with 2 Axes>"
      ]
     },
     "metadata": {
      "needs_background": "light"
     },
     "output_type": "display_data"
    }
   ],
   "source": [
    "fig, (ax1,ax2) = plt.subplots(1,2,figsize = (12,5),constrained_layout=False)\n",
    "plt.subplots_adjust(wspace = 0.5)\n",
    "\n",
    "# Create a bar chart showing the number of individuals per gender\n",
    "ax1.bar(df_stroke.gender.unique(),df_stroke.gender.value_counts(),color = ['blue','red'],width = 0.8)\n",
    "ax1.set_xticks(df_stroke.gender.unique())\n",
    "ax1.set_xticklabels(('Female','Male', \"Other\"))\n",
    "\n",
    "# Create a pie chart showing the number of individuals per gender\n",
    "ax2.pie((female_count, male_count, other_count), labels = ('Female','Male', \"Other\"), autopct='%1.1f%%', shadow=True, startangle=90, explode=[0.1, 0.1 ,0.1])\n",
    "\n",
    "plt.show()"
   ]
  },
  {
   "cell_type": "code",
   "execution_count": 32,
   "metadata": {},
   "outputs": [
    {
     "data": {
      "image/png": "[encoded data removed]",
      "text/plain": [
       "<Figure size 864x360 with 2 Axes>"
      ]
     },
     "metadata": {
      "needs_background": "light"
     },
     "output_type": "display_data"
    }
   ],
   "source": [
    "fig, (ax1,ax2) = plt.subplots(1,2,figsize = (12,5),constrained_layout=False)\n",
    "plt.subplots_adjust(wspace = 0.5)\n",
    "\n",
    "# Create a bar chart of gender distribution in individuals who had a stroke\n",
    "ax1.bar(df_stroke[df_stroke['stroke']==1].gender.unique(),df_stroke[df_stroke['stroke']==1].gender.value_counts(),color = ['blue','red'],width = 0.8)\n",
    "ax1.set_xticks(df_stroke.gender.unique())\n",
    "ax1.set_xticklabels(('Female','Male'))\n",
    "\n",
    "# Create a pie chart of gender distribution in individuals who had a stroke\n",
    "ax2.pie((female_count, male_count), labels = ('Female','Male'), autopct='%1.1f%%', shadow=True, startangle=90, explode=[0.1, 0.1])\n",
    "\n",
    "plt.show()"
   ]
  },
  {
   "cell_type": "code",
   "execution_count": 33,
   "metadata": {},
   "outputs": [
    {
     "data": {
      "image/png": "[encoded data removed]",
      "text/plain": [
       "<Figure size 1440x360 with 2 Axes>"
      ]
     },
     "metadata": {
      "needs_background": "light"
     },
     "output_type": "display_data"
    }
   ],
   "source": [
    "# Population Distribution with age and sex\n",
    "fig, (ax1,ax2) = plt.subplots(1,2, figsize = (20,5),constrained_layout=False)\n",
    "bin_x = range(25,80,2)\n",
    "\n",
    "# Population Age Distribution\n",
    "ax1.hist(df_stroke.age.tolist(),bins=bin_x,rwidth=0.9)\n",
    "ax1.set_xticks(range(25,80,2))\n",
    "ax1.set_xlabel('Age',fontsize=15)\n",
    "ax1.set_ylabel('Population Count',fontsize=15)\n",
    "ax1.set_title('Total population distribution',fontsize=20)\n",
    "\n",
    "# Population Age Distribution by Sex\n",
    "ax2.hist(df_stroke[df_stroke['gender']==0].age.tolist(),label = 'Female',bins=bin_x,rwidth=0.9)\n",
    "ax2.hist(df_stroke[df_stroke['gender']==1].age.tolist(),label = 'Male',bins=bin_x,rwidth=0.5)\n",
    "ax2.hist(df_stroke[df_stroke['gender']==2].age.tolist(),label = 'Other',bins=bin_x,rwidth=0.5)\n",
    "ax2.legend()\n",
    "ax2.set_xticks(range(25,80,2))\n",
    "ax2.set_xlabel('Age',fontsize=15)\n",
    "ax2.set_ylabel('Population Count',fontsize=15)\n",
    "ax2.set_title('Population per Gender',fontsize=20)\n",
    "\n",
    "plt.show()"
   ]
  },
  {
   "cell_type": "markdown",
   "metadata": {},
   "source": [
    "## 17. The ID column will be removed as it is not needed to train the machine learning model"
   ]
  },
  {
   "cell_type": "code",
   "execution_count": 34,
   "metadata": {},
   "outputs": [
    {
     "name": "stdout",
     "output_type": "stream",
     "text": [
      "The column \"id\" was successfully deleted\n"
     ]
    }
   ],
   "source": [
    "# Remove ID Column\n",
    "try:\n",
    "    del df_stroke['id']\n",
    "    print('The column \"id\" was successfully deleted')\n",
    "except:\n",
    "    print('The column \"id\" was not deleted')"
   ]
  },
  {
   "cell_type": "markdown",
   "metadata": {},
   "source": [
    "## 18. Now that the data has been transformed and cleansed it will be saved as a csv for use in the classification model"
   ]
  },
  {
   "cell_type": "code",
   "execution_count": 35,
   "metadata": {},
   "outputs": [
    {
     "name": "stdout",
     "output_type": "stream",
     "text": [
      "The csv was successfully saved as cleansed-healthcare-dataset-stroke-data.csv\n"
     ]
    }
   ],
   "source": [
    "# Save the transformed dataset\n",
    "df_stroke.to_csv('data/cleansed-healthcare-dataset-stroke-data.csv', index=False)\n",
    "print('The csv was successfully saved as cleansed-healthcare-dataset-stroke-data.csv')"
   ]
  },
  {
   "cell_type": "code",
   "execution_count": null,
   "metadata": {},
   "outputs": [],
   "source": []
  }
 ],
 "metadata": {
  "kernelspec": {
   "display_name": "Python 3",
   "language": "python",
   "name": "python3"
  },
  "language_info": {
   "codemirror_mode": {
    "name": "ipython",
    "version": 3
   },
   "file_extension": ".py",
   "mimetype": "text/x-python",
   "name": "python",
   "nbconvert_exporter": "python",
   "pygments_lexer": "ipython3",
   "version": "3.7.6"
  }
 },
 "nbformat": 4,
 "nbformat_minor": 4
}
